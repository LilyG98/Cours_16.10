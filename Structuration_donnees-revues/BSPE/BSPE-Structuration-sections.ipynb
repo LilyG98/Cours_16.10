{
 "cells": [
  {
   "cell_type": "markdown",
   "metadata": {},
   "source": [
    "## Ce notebook sert à tout simplement à ajouter au tableau des articles du BSPE une colonne qui distingue la catégorie de l'article \n",
    "\n",
    "\n",
    "La particularité de ce notebook est que l'on s'occupe ici de merger 2 dataframes : \n",
    "\n",
    "1. Celui que j'ai constitué il y a déjà un bon moment à partir des documents sur <a href = \"https://pathexo.societe-mtsi.fr/1844-sommaire-bulletin.html\"> le site de la Société Francophone de Médecine Tropicale et Santé Internationale </a> qui s'arrête en 1921\n",
    "\n",
    "2. Le df fourni par les responsables de Medica où l'on trouve beaucoup plus d'informations. \n",
    "\n",
    "\n",
    "* Communication\n",
    "* Mémoires\n",
    "* Discussion\n",
    "* Conférences\n",
    "* Vie-SPE (Nécrologie, Discours d'ouverture, Correspondances)\n",
    "* Société de Médecine de l'OUest Africain\n",
    "* Société des sciences médecinales de Madagascar"
   ]
  },
  {
   "cell_type": "code",
   "execution_count": 1,
   "metadata": {},
   "outputs": [
    {
     "ename": "IndentationError",
     "evalue": "expected an indented block (Structuration_Medica.py, line 23)",
     "output_type": "error",
     "traceback": [
      "Traceback \u001b[0;36m(most recent call last)\u001b[0m:\n",
      "  File \u001b[1;32m\"/home/humanum/anaconda3/lib/python3.8/site-packages/IPython/core/interactiveshell.py\"\u001b[0m, line \u001b[1;32m3418\u001b[0m, in \u001b[1;35mrun_code\u001b[0m\n    exec(code_obj, self.user_global_ns, self.user_ns)\n",
      "\u001b[0;36m  File \u001b[0;32m\"<ipython-input-1-2aa070e1ef89>\"\u001b[0;36m, line \u001b[0;32m6\u001b[0;36m, in \u001b[0;35m<module>\u001b[0;36m\u001b[0m\n\u001b[0;31m    import Structuration_Medica as Medica\u001b[0m\n",
      "\u001b[0;36m  File \u001b[0;32m\"/home/humanum/Bureau/Memoire-M1/Structuration_donnees-revues/BSPE/Structuration_Medica.py\"\u001b[0;36m, line \u001b[0;32m23\u001b[0m\n\u001b[0;31m    df_Medica = pd.read_csv(BSPE_Medica,sep='\\t')\u001b[0m\n\u001b[0m    ^\u001b[0m\n\u001b[0;31mIndentationError\u001b[0m\u001b[0;31m:\u001b[0m expected an indented block\n"
     ]
    }
   ],
   "source": [
    "import requests\n",
    "import csv\n",
    "import pandas as pd\n",
    "import re\n",
    "\n",
    "import Structuration_Medica as Medica"
   ]
  },
  {
   "cell_type": "code",
   "execution_count": null,
   "metadata": {},
   "outputs": [],
   "source": [
    "Medica"
   ]
  },
  {
   "cell_type": "markdown",
   "metadata": {},
   "source": [
    "## DF MEDICA"
   ]
  },
  {
   "cell_type": "code",
   "execution_count": null,
   "metadata": {},
   "outputs": [],
   "source": [
    "with open (\"MEDICA-BSPE.tsv\") as BSPE_Medica:\n",
    "    print(type(BSPE_Medica))\n",
    "    df_Medica = pd.read_csv(BSPE_Medica,sep='\\t')"
   ]
  },
  {
   "cell_type": "code",
   "execution_count": null,
   "metadata": {},
   "outputs": [],
   "source": [
    "df_Medica"
   ]
  },
  {
   "cell_type": "code",
   "execution_count": null,
   "metadata": {},
   "outputs": [],
   "source": [
    "#je retire la colonne\"Unnamed\": \n",
    "df_Medica.drop('Unnamed: 0',\n",
    "  axis='columns', inplace=True)"
   ]
  },
  {
   "cell_type": "code",
   "execution_count": null,
   "metadata": {},
   "outputs": [],
   "source": [
    "\n"
   ]
  },
  {
   "cell_type": "code",
   "execution_count": null,
   "metadata": {},
   "outputs": [],
   "source": [
    "#Ajout du article-id qui permettra de merger avec df-perso\n",
    "\n",
    "#Nouvelle colonne pour l'article-id : \n",
    "df_Medica[\"article_id\"] = df_Medica.apply(lambda _: '', axis=1)\n",
    "\n",
    "#Nouvelle colonne pour l'année : \n",
    "df_Medica[\"revue_annee\"] = df_Medica.apply(lambda _: '', axis=1)\n",
    "\n",
    "list(df_Medica.columns)\n",
    "\n",
    "#Réorganisation des colonnes pour mettre en avant article_id, page,chapitre, année qui sont les éléments que je retrouve dans mon df_preso \n",
    "df_Medica = df_Medica[['cote',\n",
    " 'article_id',\n",
    " 'page',\n",
    " 'chapitre',\n",
    " 'revue_annee',\n",
    " 'pagecle',\n",
    " 'refimg',\n",
    " 'pagimgcle',\n",
    " 'pagimg',\n",
    " 'pagimgtxt',\n",
    " 'pagimgtxtcom']]\n",
    "\n",
    "\n"
   ]
  },
  {
   "cell_type": "code",
   "execution_count": null,
   "metadata": {},
   "outputs": [],
   "source": [
    "for i in range (len(df_Medica)):\n",
    "    #Extraction de l'année : \n",
    "    df_Medica.iloc[i,4] = re.search(r'\\d{4}',df_Medica.iloc[i,0]).group(0)\n",
    "    \n",
    "    #Constitution de l'article_id\n",
    "    df_Medica.iloc[i,1] = \"BSPE-\"+df_Medica.iloc[i,4]+\"-\"+df_Medica.iloc[i,2]"
   ]
  },
  {
   "cell_type": "code",
   "execution_count": null,
   "metadata": {},
   "outputs": [],
   "source": [
    "df_Medica"
   ]
  },
  {
   "cell_type": "code",
   "execution_count": null,
   "metadata": {},
   "outputs": [],
   "source": [
    "df_Medica_court = df_Medica[[\"article_id\",\"chapitre\"]]"
   ]
  },
  {
   "cell_type": "code",
   "execution_count": null,
   "metadata": {},
   "outputs": [],
   "source": [
    "df_Medica_court"
   ]
  },
  {
   "cell_type": "code",
   "execution_count": null,
   "metadata": {},
   "outputs": [],
   "source": [
    "if type(df_Medica) is pd.core.frame.DataFrame:\n",
    "    print (\"df\")"
   ]
  },
  {
   "cell_type": "markdown",
   "metadata": {},
   "source": [
    "## DF PERSO*"
   ]
  },
  {
   "cell_type": "code",
   "execution_count": null,
   "metadata": {},
   "outputs": [],
   "source": [
    "with open (\"Entrees_BSPE-1921.tsv\") as BSPE:\n",
    "    df_perso = pd.read_csv(BSPE,sep='\\t')"
   ]
  },
  {
   "cell_type": "code",
   "execution_count": null,
   "metadata": {
    "scrolled": true
   },
   "outputs": [],
   "source": [
    "df_perso"
   ]
  },
  {
   "cell_type": "code",
   "execution_count": null,
   "metadata": {},
   "outputs": [],
   "source": [
    "#Retirer la colonne\"Unnamed\":\n",
    "df_perso.drop('Unnamed: 0',\n",
    "  axis='columns', inplace=True)"
   ]
  },
  {
   "cell_type": "code",
   "execution_count": null,
   "metadata": {},
   "outputs": [],
   "source": [
    "#Nouvelle colonne pour la section : \n",
    "df_perso[\"article_section\"] = df_perso.apply(lambda _: '', axis=1)\n",
    "\n",
    "# print(\"ancien ordre colonnes : \\n\\n\", list(df_perso.columns))\n",
    "\n",
    "df_perso = df_perso[['article_id',\n",
    " 'article_auteur', \n",
    " 'article_section',\n",
    " 'article_titre',\n",
    " 'article_page',\n",
    " 'revue_annee',\n",
    " 'revue_numero',]]\n",
    "\n",
    "#Modification du article_id pour mettre les années plutôt que les numéros (meilleure lisibilité trans-revues)\n",
    "for i in range (len(df_perso)):\n",
    "    df_perso.iloc[i,0] = \"BSPE-\"+str(df_perso.iloc[i,5])+\"-\"+str(df_perso.iloc[i,4])"
   ]
  },
  {
   "cell_type": "code",
   "execution_count": null,
   "metadata": {},
   "outputs": [],
   "source": [
    "df_perso"
   ]
  },
  {
   "cell_type": "markdown",
   "metadata": {},
   "source": [
    "## Fusionner les deux DF : df_perso et df_Medica_court \n",
    "\n",
    "Points pour les merge : \n",
    "* article_id => On ne conserve que ceux correpsondant à df_perso ! => how='inner' on='article_id'\n",
    "* revue_annee\n",
    "\n"
   ]
  },
  {
   "cell_type": "code",
   "execution_count": null,
   "metadata": {},
   "outputs": [],
   "source": [
    "# df_BSPE_Merged = pd.merge(df_perso,df_Medica_court,\n",
    "#         how='inner', on='article_id')\n",
    "\n",
    "df_BSPE_Merged=df_perso.merge(df_Medica_court, how='inner', on='article_id')\n",
    "df_BSPE_Merged #Ici on a des doublons car 2531 entrées au lieu de 2443..."
   ]
  },
  {
   "cell_type": "code",
   "execution_count": null,
   "metadata": {},
   "outputs": [],
   "source": [
    "df_BSPE_Merged=df_BSPE_Merged.drop_duplicates(subset=\"article_id\",keep=\"first\")\n",
    "#Pb : ici j'ai une perte d'informations car seulelemtn 2375 entrées au lieu de 2443"
   ]
  },
  {
   "cell_type": "code",
   "execution_count": null,
   "metadata": {},
   "outputs": [],
   "source": [
    "df_BSPE_Merged"
   ]
  },
  {
   "cell_type": "code",
   "execution_count": null,
   "metadata": {},
   "outputs": [],
   "source": [
    "df_perso.iloc[44,0:3]"
   ]
  },
  {
   "cell_type": "markdown",
   "metadata": {},
   "source": [
    "Ajout des colonnes Section et Séance "
   ]
  },
  {
   "cell_type": "code",
   "execution_count": null,
   "metadata": {},
   "outputs": [],
   "source": [
    "#\n",
    "\n",
    "for i in range (len(df_perso)):\n",
    "    #Remplir la colonne des \"auteurs4\"\n",
    "    if re.search(r\"\\(Discussion\\)\",df_perso.iloc[i,3]):\n",
    "        df_perso.iloc[i,2]= \"Discussion\"\n",
    "        df_perso.iloc[i,3]= re.sub(r\"\\(Discussion\\)(.*)\",r'\\1',df_perso.iloc[i,3])\n"
   ]
  },
  {
   "cell_type": "code",
   "execution_count": null,
   "metadata": {},
   "outputs": [],
   "source": []
  },
  {
   "cell_type": "code",
   "execution_count": null,
   "metadata": {},
   "outputs": [],
   "source": []
  },
  {
   "cell_type": "code",
   "execution_count": null,
   "metadata": {},
   "outputs": [],
   "source": []
  }
 ],
 "metadata": {
  "kernelspec": {
   "display_name": "Python 3",
   "language": "python",
   "name": "python3"
  },
  "language_info": {
   "codemirror_mode": {
    "name": "ipython",
    "version": 3
   },
   "file_extension": ".py",
   "mimetype": "text/x-python",
   "name": "python",
   "nbconvert_exporter": "python",
   "pygments_lexer": "ipython3",
   "version": "3.8.5"
  }
 },
 "nbformat": 4,
 "nbformat_minor": 4
}
