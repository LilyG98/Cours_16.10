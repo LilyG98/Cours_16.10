{
 "cells": [
  {
   "cell_type": "code",
   "execution_count": 1,
   "metadata": {},
   "outputs": [],
   "source": [
    "import requests\n",
    "import csv\n",
    "import pandas as pd"
   ]
  },
  {
   "cell_type": "code",
   "execution_count": 3,
   "metadata": {},
   "outputs": [],
   "source": [
    "with open (\"Entrees_BSPE-1921.tsv\") as BSPE:\n",
    "    df = pd.read_csv(BSPE,sep='\\t')"
   ]
  },
  {
   "cell_type": "code",
   "execution_count": 5,
   "metadata": {},
   "outputs": [
    {
     "data": {
      "text/plain": [
       "0                                   LAVERAN (Alphonse)\n",
       "1                                MARTIN (Louis), DARRÉ\n",
       "2                                        SERGENT (ED.)\n",
       "3                                         REMY (F. J.)\n",
       "4              SERGENT(ED.),SERGENT(ÉT.), LEDOUX (ED.)\n",
       "                             ...                      \n",
       "2438                                      ROUBAUD (E.)\n",
       "2439                             JOUVEAU-DUBREUIL (H.)\n",
       "2440    DONATIEN (A.), SERGENT (ED., ET.), PARROT (L.)\n",
       "2441                                       LAVIER (G.)\n",
       "2442                LAIGRET, OUZILLEAU (F.), LEFROU ()\n",
       "Name: article_auteur, Length: 2443, dtype: object"
      ]
     },
     "execution_count": 5,
     "metadata": {},
     "output_type": "execute_result"
    }
   ],
   "source": [
    "df[\"article_auteur\"]"
   ]
  },
  {
   "cell_type": "code",
   "execution_count": null,
   "metadata": {},
   "outputs": [],
   "source": []
  }
 ],
 "metadata": {
  "kernelspec": {
   "display_name": "Python 3",
   "language": "python",
   "name": "python3"
  },
  "language_info": {
   "codemirror_mode": {
    "name": "ipython",
    "version": 3
   },
   "file_extension": ".py",
   "mimetype": "text/x-python",
   "name": "python",
   "nbconvert_exporter": "python",
   "pygments_lexer": "ipython3",
   "version": "3.8.5"
  }
 },
 "nbformat": 4,
 "nbformat_minor": 4
}
