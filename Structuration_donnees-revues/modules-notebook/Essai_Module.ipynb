{
 "cells": [
  {
   "cell_type": "markdown",
   "metadata": {},
   "source": [
    "### import module_structuration_revues"
   ]
  },
  {
   "cell_type": "code",
   "execution_count": 18,
   "metadata": {},
   "outputs": [],
   "source": [
    "import pandas as pd\n",
    "import module_structuration_revues\n",
    "# import ESSAI_module_structuration_revues"
   ]
  },
  {
   "cell_type": "markdown",
   "metadata": {},
   "source": [
    "# AHMC"
   ]
  },
  {
   "cell_type": "code",
   "execution_count": 19,
   "metadata": {},
   "outputs": [],
   "source": [
    "with open (\"Liste-URL-AHMC.txt\",\"r\") as Liste_URL_AHMC :\n",
    "    liste_url_AHMC = Liste_URL_AHMC.read().split(\" ; \")"
   ]
  },
  {
   "cell_type": "code",
   "execution_count": 20,
   "metadata": {},
   "outputs": [],
   "source": [
    "l = []\n",
    "df = pd.DataFrame()\n",
    "for url in liste_url_AHMC:\n",
    "    df2 =  module_structuration_revues.url_to_df_AHMC(url)\n",
    "    df = pd.concat([df,df2])"
   ]
  },
  {
   "cell_type": "code",
   "execution_count": 21,
   "metadata": {
    "scrolled": true
   },
   "outputs": [],
   "source": [
    "df.to_csv('AHMC_articles.csv')"
   ]
  },
  {
   "cell_type": "code",
   "execution_count": 22,
   "metadata": {},
   "outputs": [
    {
     "data": {
      "text/html": [
       "<div>\n",
       "<style scoped>\n",
       "    .dataframe tbody tr th:only-of-type {\n",
       "        vertical-align: middle;\n",
       "    }\n",
       "\n",
       "    .dataframe tbody tr th {\n",
       "        vertical-align: top;\n",
       "    }\n",
       "\n",
       "    .dataframe thead th {\n",
       "        text-align: right;\n",
       "    }\n",
       "</style>\n",
       "<table border=\"1\" class=\"dataframe\">\n",
       "  <thead>\n",
       "    <tr style=\"text-align: right;\">\n",
       "      <th></th>\n",
       "      <th>article_id</th>\n",
       "      <th>article_auteur</th>\n",
       "      <th>article_detail</th>\n",
       "      <th>article_titre</th>\n",
       "      <th>revue_annee</th>\n",
       "      <th>revue_numero</th>\n",
       "      <th>article_page</th>\n",
       "    </tr>\n",
       "  </thead>\n",
       "  <tbody>\n",
       "    <tr>\n",
       "      <th>0</th>\n",
       "      <td>AHMC-01-9</td>\n",
       "      <td>le Dr Clarac</td>\n",
       "      <td>Première partie</td>\n",
       "      <td>Contribution à la géographie médicale. Notes ...</td>\n",
       "      <td>1898</td>\n",
       "      <td>01</td>\n",
       "      <td>9</td>\n",
       "    </tr>\n",
       "    <tr>\n",
       "      <th>1</th>\n",
       "      <td>AHMC-01-43</td>\n",
       "      <td>le Dr Clarac. Première partie. Deuxième partie</td>\n",
       "      <td>La fièvre hémoglobinurique endémique observée...</td>\n",
       "      <td>Contribution à la géographie médicale. Notes ...</td>\n",
       "      <td>1898</td>\n",
       "      <td>01</td>\n",
       "      <td>43</td>\n",
       "    </tr>\n",
       "    <tr>\n",
       "      <th>2</th>\n",
       "      <td>AHMC-01-114</td>\n",
       "      <td>le Dr Fontaine(1)</td>\n",
       "      <td>NaN</td>\n",
       "      <td>Notes sur la mortalité des troupes d'infanteri...</td>\n",
       "      <td>1898</td>\n",
       "      <td>01</td>\n",
       "      <td>114</td>\n",
       "    </tr>\n",
       "    <tr>\n",
       "      <th>3</th>\n",
       "      <td>AHMC-01-129</td>\n",
       "      <td>le Dr Calmette</td>\n",
       "      <td>NaN</td>\n",
       "      <td>Sur le mécanisme de l'immunisation contre les ...</td>\n",
       "      <td>1898</td>\n",
       "      <td>01</td>\n",
       "      <td>129</td>\n",
       "    </tr>\n",
       "    <tr>\n",
       "      <th>4</th>\n",
       "      <td>AHMC-01-135</td>\n",
       "      <td>NaN</td>\n",
       "      <td>NaN</td>\n",
       "      <td>Notes succinctes sur l'état sanitaire de nos ...</td>\n",
       "      <td>1898</td>\n",
       "      <td>01</td>\n",
       "      <td>135</td>\n",
       "    </tr>\n",
       "    <tr>\n",
       "      <th>...</th>\n",
       "      <td>...</td>\n",
       "      <td>...</td>\n",
       "      <td>...</td>\n",
       "      <td>...</td>\n",
       "      <td>...</td>\n",
       "      <td>...</td>\n",
       "      <td>...</td>\n",
       "    </tr>\n",
       "    <tr>\n",
       "      <th>44</th>\n",
       "      <td>AHMC-38-351</td>\n",
       "      <td>MM. Les Drs Grosfilez et Lefèvre. Chapitre IV....</td>\n",
       "      <td>Cancer</td>\n",
       "      <td>II. Chronique documentaire. Les maladies tran...</td>\n",
       "      <td>1940</td>\n",
       "      <td>38</td>\n",
       "      <td>351</td>\n",
       "    </tr>\n",
       "    <tr>\n",
       "      <th>45</th>\n",
       "      <td>AHMC-38-355</td>\n",
       "      <td>MM. Les Drs Grosfilez et Lefèvre. Chapitre IV....</td>\n",
       "      <td>Alcoolisme</td>\n",
       "      <td>II. Chronique documentaire. Les maladies tran...</td>\n",
       "      <td>1940</td>\n",
       "      <td>38</td>\n",
       "      <td>355</td>\n",
       "    </tr>\n",
       "    <tr>\n",
       "      <th>46</th>\n",
       "      <td>AHMC-38-360</td>\n",
       "      <td>NaN</td>\n",
       "      <td>NaN</td>\n",
       "      <td>II. Chronique documentaire. Commission de la ...</td>\n",
       "      <td>1940</td>\n",
       "      <td>38</td>\n",
       "      <td>360</td>\n",
       "    </tr>\n",
       "    <tr>\n",
       "      <th>47</th>\n",
       "      <td>AHMC-38-382</td>\n",
       "      <td>NaN</td>\n",
       "      <td>NaN</td>\n",
       "      <td>III. Promotions. Nominations</td>\n",
       "      <td>1940</td>\n",
       "      <td>38</td>\n",
       "      <td>382</td>\n",
       "    </tr>\n",
       "    <tr>\n",
       "      <th>48</th>\n",
       "      <td>AHMC-38-186</td>\n",
       "      <td>MM. Les Drs Grosfilez et Lefèvre. Chapitre I M...</td>\n",
       "      <td>Chapitre I Maladies pestilentielles</td>\n",
       "      <td>II. Chronique documentaire. Les maladies tran...</td>\n",
       "      <td>1940</td>\n",
       "      <td>38</td>\n",
       "      <td>186</td>\n",
       "    </tr>\n",
       "  </tbody>\n",
       "</table>\n",
       "<p>4862 rows × 7 columns</p>\n",
       "</div>"
      ],
      "text/plain": [
       "     article_id                                     article_auteur  \\\n",
       "0     AHMC-01-9                                       le Dr Clarac   \n",
       "1    AHMC-01-43     le Dr Clarac. Première partie. Deuxième partie   \n",
       "2   AHMC-01-114                                  le Dr Fontaine(1)   \n",
       "3   AHMC-01-129                                     le Dr Calmette   \n",
       "4   AHMC-01-135                                                NaN   \n",
       "..          ...                                                ...   \n",
       "44  AHMC-38-351  MM. Les Drs Grosfilez et Lefèvre. Chapitre IV....   \n",
       "45  AHMC-38-355  MM. Les Drs Grosfilez et Lefèvre. Chapitre IV....   \n",
       "46  AHMC-38-360                                                NaN   \n",
       "47  AHMC-38-382                                                NaN   \n",
       "48  AHMC-38-186  MM. Les Drs Grosfilez et Lefèvre. Chapitre I M...   \n",
       "\n",
       "                                       article_detail  \\\n",
       "0                                     Première partie   \n",
       "1    La fièvre hémoglobinurique endémique observée...   \n",
       "2                                                 NaN   \n",
       "3                                                 NaN   \n",
       "4                                                 NaN   \n",
       "..                                                ...   \n",
       "44                                             Cancer   \n",
       "45                                         Alcoolisme   \n",
       "46                                                NaN   \n",
       "47                                                NaN   \n",
       "48                Chapitre I Maladies pestilentielles   \n",
       "\n",
       "                                        article_titre revue_annee  \\\n",
       "0    Contribution à la géographie médicale. Notes ...        1898   \n",
       "1    Contribution à la géographie médicale. Notes ...        1898   \n",
       "2   Notes sur la mortalité des troupes d'infanteri...        1898   \n",
       "3   Sur le mécanisme de l'immunisation contre les ...        1898   \n",
       "4    Notes succinctes sur l'état sanitaire de nos ...        1898   \n",
       "..                                                ...         ...   \n",
       "44   II. Chronique documentaire. Les maladies tran...        1940   \n",
       "45   II. Chronique documentaire. Les maladies tran...        1940   \n",
       "46   II. Chronique documentaire. Commission de la ...        1940   \n",
       "47                       III. Promotions. Nominations        1940   \n",
       "48   II. Chronique documentaire. Les maladies tran...        1940   \n",
       "\n",
       "   revue_numero article_page  \n",
       "0            01            9  \n",
       "1            01           43  \n",
       "2            01          114  \n",
       "3            01          129  \n",
       "4            01          135  \n",
       "..          ...          ...  \n",
       "44           38          351  \n",
       "45           38          355  \n",
       "46           38          360  \n",
       "47           38          382  \n",
       "48           38          186  \n",
       "\n",
       "[4862 rows x 7 columns]"
      ]
     },
     "execution_count": 22,
     "metadata": {},
     "output_type": "execute_result"
    }
   ],
   "source": [
    "df"
   ]
  },
  {
   "cell_type": "code",
   "execution_count": 14,
   "metadata": {},
   "outputs": [],
   "source": [
    "df_sans_doublons = module_structuration_revues.df_sans_doublons(df)"
   ]
  },
  {
   "cell_type": "code",
   "execution_count": 17,
   "metadata": {},
   "outputs": [],
   "source": [
    "df_sans_doublons.to_csv(\"~/Bureau/Structuration-donnees/Revues/AHMC/AHMC_nodoublons.csv\")"
   ]
  },
  {
   "cell_type": "code",
   "execution_count": null,
   "metadata": {},
   "outputs": [],
   "source": []
  },
  {
   "cell_type": "code",
   "execution_count": null,
   "metadata": {},
   "outputs": [],
   "source": []
  },
  {
   "cell_type": "markdown",
   "metadata": {},
   "source": [
    "# AMN "
   ]
  },
  {
   "cell_type": "code",
   "execution_count": 2,
   "metadata": {},
   "outputs": [],
   "source": [
    "with open (\"Liste-URL-AMN.txt\",\"r\") as Liste_URL_AMN :\n",
    "    liste_url_AMN = Liste_URL_AMN.read().split(\" ; \")\n",
    "    #print(liste_url_AMN)"
   ]
  },
  {
   "cell_type": "code",
   "execution_count": 3,
   "metadata": {},
   "outputs": [
    {
     "ename": "UnboundLocalError",
     "evalue": "local variable 'revue_annee' referenced before assignment",
     "output_type": "error",
     "traceback": [
      "\u001b[0;31m---------------------------------------------------------------------------\u001b[0m",
      "\u001b[0;31mUnboundLocalError\u001b[0m                         Traceback (most recent call last)",
      "\u001b[0;32m<ipython-input-3-0bf3db8a811f>\u001b[0m in \u001b[0;36m<module>\u001b[0;34m\u001b[0m\n\u001b[1;32m      2\u001b[0m \u001b[0mdf\u001b[0m \u001b[0;34m=\u001b[0m \u001b[0mpd\u001b[0m\u001b[0;34m.\u001b[0m\u001b[0mDataFrame\u001b[0m\u001b[0;34m(\u001b[0m\u001b[0;34m)\u001b[0m\u001b[0;34m\u001b[0m\u001b[0;34m\u001b[0m\u001b[0m\n\u001b[1;32m      3\u001b[0m \u001b[0;32mfor\u001b[0m \u001b[0murl\u001b[0m \u001b[0;32min\u001b[0m \u001b[0mliste_url_AMN\u001b[0m\u001b[0;34m:\u001b[0m\u001b[0;34m\u001b[0m\u001b[0;34m\u001b[0m\u001b[0m\n\u001b[0;32m----> 4\u001b[0;31m     \u001b[0mdf2\u001b[0m \u001b[0;34m=\u001b[0m \u001b[0mmodule_structuration_revues\u001b[0m\u001b[0;34m.\u001b[0m\u001b[0murl_to_df_AMN\u001b[0m\u001b[0;34m(\u001b[0m\u001b[0murl\u001b[0m\u001b[0;34m)\u001b[0m\u001b[0;34m\u001b[0m\u001b[0;34m\u001b[0m\u001b[0m\n\u001b[0m\u001b[1;32m      5\u001b[0m     \u001b[0mdf\u001b[0m \u001b[0;34m=\u001b[0m \u001b[0mpd\u001b[0m\u001b[0;34m.\u001b[0m\u001b[0mconcat\u001b[0m\u001b[0;34m(\u001b[0m\u001b[0;34m[\u001b[0m\u001b[0mdf\u001b[0m\u001b[0;34m,\u001b[0m\u001b[0mdf2\u001b[0m\u001b[0;34m]\u001b[0m\u001b[0;34m)\u001b[0m\u001b[0;34m\u001b[0m\u001b[0;34m\u001b[0m\u001b[0m\n",
      "\u001b[0;32m~/Bureau/Structuration-donnees/Revues/structuration_Python/module_structuration_revues.py\u001b[0m in \u001b[0;36murl_to_df_AMN\u001b[0;34m(url)\u001b[0m\n\u001b[1;32m    218\u001b[0m         \u001b[0;32mfor\u001b[0m \u001b[0mentree_t_tupple\u001b[0m \u001b[0;32min\u001b[0m \u001b[0mentree_t_list\u001b[0m \u001b[0;34m:\u001b[0m\u001b[0;34m\u001b[0m\u001b[0;34m\u001b[0m\u001b[0m\n\u001b[1;32m    219\u001b[0m                 \u001b[0mtupple_to_list\u001b[0m \u001b[0;34m=\u001b[0m \u001b[0mlist\u001b[0m\u001b[0;34m(\u001b[0m\u001b[0mentree_t_tupple\u001b[0m\u001b[0;34m)\u001b[0m\u001b[0;34m\u001b[0m\u001b[0;34m\u001b[0m\u001b[0m\n\u001b[0;32m--> 220\u001b[0;31m                 \u001b[0mtupple_to_list\u001b[0m\u001b[0;34m.\u001b[0m\u001b[0mappend\u001b[0m\u001b[0;34m(\u001b[0m\u001b[0mrevue_annee\u001b[0m\u001b[0;34m)\u001b[0m\u001b[0;34m\u001b[0m\u001b[0;34m\u001b[0m\u001b[0m\n\u001b[0m\u001b[1;32m    221\u001b[0m                 \u001b[0mtupple_to_list\u001b[0m\u001b[0;34m.\u001b[0m\u001b[0mappend\u001b[0m\u001b[0;34m(\u001b[0m\u001b[0mrevue_numero\u001b[0m\u001b[0;34m)\u001b[0m\u001b[0;34m\u001b[0m\u001b[0;34m\u001b[0m\u001b[0m\n\u001b[1;32m    222\u001b[0m     \u001b[0;31m#            if re.search(r\"(.*\\/(.*))\",tupple_to_list[1],0, re.MULTILINE):\u001b[0m\u001b[0;34m\u001b[0m\u001b[0;34m\u001b[0m\u001b[0;34m\u001b[0m\u001b[0m\n",
      "\u001b[0;31mUnboundLocalError\u001b[0m: local variable 'revue_annee' referenced before assignment"
     ]
    }
   ],
   "source": [
    "l = []\n",
    "df = pd.DataFrame()\n",
    "for url in liste_url_AMN:\n",
    "    df2 = module_structuration_revues.url_to_df_AMN(url)\n",
    "    df = pd.concat([df,df2])"
   ]
  },
  {
   "cell_type": "code",
   "execution_count": null,
   "metadata": {},
   "outputs": [],
   "source": [
    "print(df)"
   ]
  },
  {
   "cell_type": "code",
   "execution_count": null,
   "metadata": {},
   "outputs": [],
   "source": []
  },
  {
   "cell_type": "code",
   "execution_count": null,
   "metadata": {},
   "outputs": [],
   "source": []
  },
  {
   "cell_type": "code",
   "execution_count": null,
   "metadata": {},
   "outputs": [],
   "source": []
  },
  {
   "cell_type": "code",
   "execution_count": null,
   "metadata": {},
   "outputs": [],
   "source": []
  },
  {
   "cell_type": "code",
   "execution_count": null,
   "metadata": {},
   "outputs": [],
   "source": []
  },
  {
   "cell_type": "code",
   "execution_count": null,
   "metadata": {},
   "outputs": [],
   "source": []
  },
  {
   "cell_type": "code",
   "execution_count": null,
   "metadata": {},
   "outputs": [],
   "source": []
  },
  {
   "cell_type": "code",
   "execution_count": 5,
   "metadata": {},
   "outputs": [],
   "source": [
    "from bs4 import BeautifulSoup\n",
    "from lxml import html\n",
    "import requests\n",
    "import regex as re\n",
    "import pandas as pd\n",
    "\n",
    "r = requests.get(\"https://www.biusante.parisdescartes.fr/histoire/medica/resultats/index.php?do=chapitre&cote=90156x1897x67\")\n",
    "\n",
    "##### extraction du corpus html du numéro \n",
    "numero_AMN_soup = BeautifulSoup (r.text, features=\"lxml\")\n",
    "\n",
    "##### extration des balises <div class='titre' ...> </div>\n",
    "div_ens_tag = numero_AMN_soup.find_all(\"div\", {\"class\":\"tableau1\"})\n",
    "\n",
    "\n",
    "##### 1.2.2. extraire les href / l'année / le numéro\n",
    "for balise in div_ens_tag:\n",
    "    l = list(balise)\n",
    "    ahref = str(l[1])\n",
    "    intermed = re.search(r\"x([0-9]{4})x([0-9]{2})\",ahref)\n",
    "    intermed = str(intermed)\n",
    "\n",
    "    #isoler année : \n",
    "    if re.search(r\"[0-9]{4}\",intermed) is None:\n",
    "        pass\n",
    "    else :\n",
    "        revue_annee = re.search(r\"[0-9]{4}\",intermed).group(0)\n",
    "\n",
    "    #isoler numéro : \n",
    "    if re.search(r\"[0-9]{4}\",intermed) is None:\n",
    "        pass\n",
    "    else :\n",
    "        revue_numero = re.search(r\"([0-9]{2})'\",intermed).group(1)\n",
    "\n",
    "\n",
    "#### 2 : Nettoyer les entrées pour ne conserver que les articles#####\n",
    "\n",
    "#### 2.1. Liste ne conservant que la page et le contenu de l'entrée\n",
    "\n",
    "liste_page_entrees = []\n",
    "Liste_entrees = []\n",
    "\n",
    "######### NB : je fais exprès de dire \"entrée\" et non \"article\" car il y a d'autres contenus que des articles\n",
    "for balise in div_ens_tag:\n",
    "    liste_page_entrees.append(balise.text)\n",
    "\n",
    "for entree in liste_page_entrees :\n",
    "    RE_entree = re.findall(r\"\\t(\\d{1,3})(.*)\",entree)\n",
    "    Liste_entrees.append(RE_entree)\n",
    "\n",
    "#print(Liste_entrees)\n",
    "#### 2.2. Pour les pages d'un nouvel article qui débute, ne conserver que le nom du nouveau\n",
    "Liste_entrees_no_doublesentrees= []\n",
    "\n",
    "for entree_t_list in Liste_entrees :\n",
    "    for entree_t_tupple in entree_t_list :\n",
    "            tupple_to_list = list(entree_t_tupple)\n",
    "            tupple_to_list.append(revue_annee)\n",
    "            #type(revue_annee))= str\n",
    "            tupple_to_list.append(revue_numero)"
   ]
  },
  {
   "cell_type": "code",
   "execution_count": null,
   "metadata": {},
   "outputs": [],
   "source": []
  }
 ],
 "metadata": {
  "kernelspec": {
   "display_name": "Python 3",
   "language": "python",
   "name": "python3"
  },
  "language_info": {
   "codemirror_mode": {
    "name": "ipython",
    "version": 3
   },
   "file_extension": ".py",
   "mimetype": "text/x-python",
   "name": "python",
   "nbconvert_exporter": "python",
   "pygments_lexer": "ipython3",
   "version": "3.8.5"
  }
 },
 "nbformat": 4,
 "nbformat_minor": 4
}
