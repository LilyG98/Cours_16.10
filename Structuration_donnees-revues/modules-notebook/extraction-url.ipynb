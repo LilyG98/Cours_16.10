{
 "cells": [
  {
   "cell_type": "markdown",
   "metadata": {},
   "source": [
    "# *****VERSION BEAUTIFUL SOUP*****"
   ]
  },
  {
   "cell_type": "code",
   "execution_count": 1,
   "metadata": {},
   "outputs": [],
   "source": [
    "from bs4 import BeautifulSoup\n",
    "from lxml import html\n",
    "import requests\n",
    "import regex as re"
   ]
  },
  {
   "cell_type": "markdown",
   "metadata": {},
   "source": [
    "### Les liens url vers les pages générales de BIUS \n",
    "\n",
    "AHMC-p1 = https://www.biusante.parisdescartes.fr/histoire/medica/resultats/index.php?fille=o&cotemere=131132&tri=&p=1\n",
    "\n",
    "AHMC-p2 = https://www.biusante.parisdescartes.fr/histoire/medica/resultats/index.php?fille=o&cotemere=131132&tri=&p=2\n",
    "\n",
    "\n",
    "========\n",
    "\n",
    "AMN-p1 = https://www.biusante.parisdescartes.fr/histoire/medica/resultats/index.php?fille=o&cotemere=90156&tri=&p=1\n",
    "\n",
    "AMN-p2 = https://www.biusante.parisdescartes.fr/histoire/medica/resultats/index.php?fille=o&cotemere=90156&tri=&p=2\n"
   ]
  },
  {
   "cell_type": "code",
   "execution_count": 20,
   "metadata": {},
   "outputs": [],
   "source": [
    "#BIUS générique \n",
    "bius_generique = \"https://www.biusante.parisdescartes.fr/\""
   ]
  },
  {
   "cell_type": "markdown",
   "metadata": {},
   "source": [
    "### AHMC"
   ]
  },
  {
   "cell_type": "code",
   "execution_count": 10,
   "metadata": {},
   "outputs": [],
   "source": [
    "#AHMC : pages 1 et 2\n",
    "\n",
    "AHMC_url = \"https://www.biusante.parisdescartes.fr/histoire/medica/resultats/index.php?fille=o&cotemere=131132&tri=&p=\"\n",
    "AHMC_url_list = []\n",
    "for i in range (1,3):\n",
    "    AHMC_url_list.append(AHMC_url+str(i))\n",
    "#print('liste des url des AHMC : \\n',AHMC_url_list)"
   ]
  },
  {
   "cell_type": "code",
   "execution_count": 3,
   "metadata": {
    "scrolled": false
   },
   "outputs": [],
   "source": [
    "#page du sommaire des AHMC\n",
    "for url in range(len(AHMC_url_list)):\n",
    "    r = requests.get(AHMC_url_list[url])\n",
    "    #html = r.text\n",
    "    #print(r.text)\n",
    "    with open (\"AHMC-HTML.html\",\"a\") as AHMC_HTML:\n",
    "        AHMC_HTML.write(r.text)\n",
    "        AHMC_HTML.close"
   ]
  },
  {
   "cell_type": "code",
   "execution_count": 4,
   "metadata": {},
   "outputs": [],
   "source": [
    "AHMC_soup = BeautifulSoup (open(\"AHMC-HTML.html\"), \"html.parser\")"
   ]
  },
  {
   "cell_type": "code",
   "execution_count": 5,
   "metadata": {
    "scrolled": true
   },
   "outputs": [],
   "source": [
    "list_url_ens_numeros_AHMC = []\n",
    "\n",
    "for tag_div_titre in AHMC_soup.find_all(\"div\", {\"class\":\"titre\"}):\n",
    "    #print(tag_div_titre)\n",
    "    tag_a = tag_div_titre.findChildren(\"a\",recursive=False)\n",
    "    #print(tag_a)\n",
    "    for ahref in tag_a :\n",
    "        url_numero_id = str(ahref[\"href\"])\n",
    "        url_numero = bius_generique + url_numero_id\n",
    "    #print(url_numero)\n",
    "    \n",
    "        #Mise de chaque url dans une liste\n",
    "    list_url_ens_numeros_AHMC.append(str(url_numero))"
   ]
  },
  {
   "cell_type": "code",
   "execution_count": 8,
   "metadata": {},
   "outputs": [],
   "source": [
    "#print(list_url_ens_numeros_AHMC)"
   ]
  },
  {
   "cell_type": "code",
   "execution_count": 9,
   "metadata": {},
   "outputs": [],
   "source": [
    "#print (list_url_ens_numeros_AHMC)\n",
    "        #Afin d'en avoir une trace sur mon ordinateur : \n",
    "for url in list_url_ens_numeros_AHMC :\n",
    "    url2 = url+' ; '\n",
    "    #print(url2)\n",
    "    with open (\"Liste-URL-AHMC.txt\",\"a\") as Liste_URL_AHMC:\n",
    "        Liste_URL_AHMC.write(str(url2))"
   ]
  },
  {
   "cell_type": "code",
   "execution_count": null,
   "metadata": {},
   "outputs": [],
   "source": []
  },
  {
   "cell_type": "markdown",
   "metadata": {},
   "source": [
    "## HTML AMN"
   ]
  },
  {
   "cell_type": "code",
   "execution_count": 21,
   "metadata": {},
   "outputs": [],
   "source": [
    "#AMN : de la page 1 à 2\n",
    "\n",
    "AMN_url = \"https://www.biusante.parisdescartes.fr/histoire/medica/resultats/index.php?fille=o&cotemere=90156&tri=&p=\"\n",
    "AMN_url_list = []\n",
    "\n",
    "for i in range (3,6):\n",
    "    AMN_url_list.append(AMN_url+str(i))\n",
    "##print('\\nliste des url des AMN : ',AMN_url_list)"
   ]
  },
  {
   "cell_type": "code",
   "execution_count": 22,
   "metadata": {},
   "outputs": [
    {
     "name": "stdout",
     "output_type": "stream",
     "text": [
      "['https://www.biusante.parisdescartes.fr/histoire/medica/resultats/index.php?fille=o&cotemere=90156&tri=&p=3', 'https://www.biusante.parisdescartes.fr/histoire/medica/resultats/index.php?fille=o&cotemere=90156&tri=&p=4', 'https://www.biusante.parisdescartes.fr/histoire/medica/resultats/index.php?fille=o&cotemere=90156&tri=&p=5']\n"
     ]
    }
   ],
   "source": [
    "print(AMN_url_list)"
   ]
  },
  {
   "cell_type": "code",
   "execution_count": 23,
   "metadata": {},
   "outputs": [],
   "source": [
    "#page du sommaire des AMN\n",
    "for url in range(len(AMN_url_list)):\n",
    "    r = requests.get(AMN_url_list[url])\n",
    "    #html = r.text\n",
    "    #print(r.text)\n",
    "    with open (\"AMN-HTML.html\",\"a\") as AMN_HTML:\n",
    "        AMN_HTML.write(r.text)\n",
    "        AMN_HTML.close"
   ]
  },
  {
   "cell_type": "code",
   "execution_count": 24,
   "metadata": {},
   "outputs": [],
   "source": [
    "AMN_soup = BeautifulSoup (open(\"AMN-HTML.html\"), \"html.parser\")"
   ]
  },
  {
   "cell_type": "code",
   "execution_count": 25,
   "metadata": {},
   "outputs": [],
   "source": [
    "list_url_ens_numeros_AMN = []\n",
    "\n",
    "for tag_div_titre in AMN_soup.find_all(\"div\", {\"class\":\"titre\"}):\n",
    "    tag_a = tag_div_titre.findChildren(\"a\",recursive=False)\n",
    "    for ahref in tag_a :\n",
    "        url_numero_id = str(ahref[\"href\"])\n",
    "        url_numero = bius_generique + url_numero_id\n",
    "        \n",
    "        #Mise de chaque url dans une liste\n",
    "#        list_url_ens_numeros_AMN.append(str(url_numero))\n"
   ]
  },
  {
   "cell_type": "code",
   "execution_count": 26,
   "metadata": {},
   "outputs": [],
   "source": [
    "#Afin d'en avoir une trace sur mon ordinateur : \n",
    "for url in list_url_ens_numeros_AMN :\n",
    "    url2 = url+' ; '\n",
    "    print(url2)\n",
    "    with open (\"Liste-URL-AHMC.txt\",\"a\") as Liste_URL_AHMC:\n",
    "        Liste_URL_AHMC.write(str(url2))"
   ]
  },
  {
   "cell_type": "code",
   "execution_count": null,
   "metadata": {},
   "outputs": [],
   "source": []
  }
 ],
 "metadata": {
  "kernelspec": {
   "display_name": "Python 3",
   "language": "python",
   "name": "python3"
  },
  "language_info": {
   "codemirror_mode": {
    "name": "ipython",
    "version": 3
   },
   "file_extension": ".py",
   "mimetype": "text/x-python",
   "name": "python",
   "nbconvert_exporter": "python",
   "pygments_lexer": "ipython3",
   "version": "3.8.3"
  }
 },
 "nbformat": 4,
 "nbformat_minor": 4
}
