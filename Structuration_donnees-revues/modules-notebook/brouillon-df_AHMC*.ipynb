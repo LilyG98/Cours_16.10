{
 "cells": [
  {
   "cell_type": "markdown",
   "metadata": {},
   "source": [
    "## L'objectif de ce notebook d'essai est de créer la liste des articles de UN numéro à partir du sommaire trouvable sur BIUS. "
   ]
  },
  {
   "cell_type": "markdown",
   "metadata": {},
   "source": [
    "### 0. Initialisation"
   ]
  },
  {
   "cell_type": "code",
   "execution_count": 1,
   "metadata": {},
   "outputs": [],
   "source": [
    "import requests\n",
    "import csv\n",
    "import pandas as pd"
   ]
  },
  {
   "cell_type": "code",
   "execution_count": 2,
   "metadata": {},
   "outputs": [],
   "source": [
    "## pour cet essai on prend 1 lien url au hasard sur BIUS\n",
    "url = \"https://www.biusante.parisdescartes.fr/histoire/medica/resultats/index.php?do=chapitre&cote=131132x1923x21\""
   ]
  },
  {
   "cell_type": "markdown",
   "metadata": {},
   "source": [
    "### 1 : Extraire de chaque page de sommaire d'un numéro sur BIUS la page et le titre des articles"
   ]
  },
  {
   "cell_type": "markdown",
   "metadata": {},
   "source": [
    "#### 1.1. Extraire le texte HTML de la page et le stocker dans un document"
   ]
  },
  {
   "cell_type": "code",
   "execution_count": 3,
   "metadata": {},
   "outputs": [],
   "source": [
    "Liste_entrees = []\n",
    "r = requests.get(url)\n",
    "#print(r.text)"
   ]
  },
  {
   "cell_type": "markdown",
   "metadata": {},
   "source": [
    "#### 1.2. Utiliser BeautifulSoup pour analyser l'HTML"
   ]
  },
  {
   "cell_type": "code",
   "execution_count": 4,
   "metadata": {},
   "outputs": [],
   "source": [
    "from bs4 import BeautifulSoup\n",
    "from lxml import html"
   ]
  },
  {
   "cell_type": "code",
   "execution_count": 5,
   "metadata": {},
   "outputs": [],
   "source": [
    "numero_AHMC_soup = BeautifulSoup (r.text, features=\"lxml\")"
   ]
  },
  {
   "cell_type": "markdown",
   "metadata": {},
   "source": [
    "##### 1.2.1. J'ai repéré que les références de chaque article se trouvent à l'intérieur de balises : div class=\"tableau1\".  Je les extrait donc dans une var 'div_ens_tag'"
   ]
  },
  {
   "cell_type": "code",
   "execution_count": 6,
   "metadata": {},
   "outputs": [],
   "source": [
    "div_ens_tag = numero_AHMC_soup.find_all(\"div\", {\"class\":\"tableau1\"})\n",
    "\n",
    "# print(div_ens_tag)"
   ]
  },
  {
   "cell_type": "markdown",
   "metadata": {},
   "source": [
    "##### 1.2.2. je voudrais ici extraire des href l'année / le numéro de l'article"
   ]
  },
  {
   "cell_type": "code",
   "execution_count": 7,
   "metadata": {},
   "outputs": [],
   "source": [
    "import regex as re \n",
    "for balise in div_ens_tag:\n",
    "    l = list(balise)\n",
    "    ahref = str(l[1])\n",
    "    SearchStr = \"x([0-9]{4})x([0-9]{2})\"\n",
    "    Result = re.search(SearchStr,ahref)\n",
    "    intermed = str(Result)\n",
    "\n",
    "    revue_annee = re.search(r\"[0-9]{4}\",intermed).group(0)\n",
    "    revue_numero = re.search(r\"([0-9]{2})'\",intermed).group(1)   # print(numero)"
   ]
  },
  {
   "cell_type": "markdown",
   "metadata": {},
   "source": [
    "### 2. Nettoyer les entrées pour ne conserver que les articles"
   ]
  },
  {
   "cell_type": "markdown",
   "metadata": {},
   "source": [
    "#### 2.1.   Liste ne conservant que la page et le contenu de l'entrée\n",
    "\n",
    "<b> NB </b> : je fais exprès de dire \"entrée\" et non \"article\" car il y a d'autres contenus que des articles"
   ]
  },
  {
   "cell_type": "code",
   "execution_count": 8,
   "metadata": {},
   "outputs": [],
   "source": [
    "liste_page_titre = []\n",
    "\n",
    "for balise in div_ens_tag:\n",
    "    liste_page_titre.append(balise.text)\n",
    "    #print(liste_page_titre)\n",
    "    #print(len(liste_page_titre)) => Il y a 82 entrées au total\n",
    "\n",
    "    \n",
    "# Liste ne conservant que la page et le contenu de l'entrée : \n",
    "\n",
    "for entree in liste_page_titre :\n",
    "    RE_entree = re.findall(r\"\\t(\\d{1,3})(.*)\",entree)\n",
    "    #type(RE_article)=\"regex_match\"\n",
    "    Liste_entrees.append(RE_entree)\n",
    "    \n"
   ]
  },
  {
   "cell_type": "markdown",
   "metadata": {},
   "source": [
    "#### 2.2. Pour les pages d'un nouvel article qui débute, ne conserver que le nom du nouveau"
   ]
  },
  {
   "cell_type": "code",
   "execution_count": 15,
   "metadata": {},
   "outputs": [
    {
     "name": "stdout",
     "output_type": "stream",
     "text": [
      "[['5', ' La prophylaxie de la maladie du sommeil dans la région de Doumé (territoires du Cameroun), octobre 1920 - juin 1922. Par M. le Dr Huot. I Historique', '1923', '21'], ['7', ' La prophylaxie de la maladie du sommeil dans la région de Doumé (territoires du Cameroun), octobre 1920 - juin 1922. Par M. le Dr Huot. II Géographie médicale de la région de Doumé', '1923', '21'], ['16', \" La prophylaxie de la maladie du sommeil dans la région de Doumé (territoires du Cameroun), octobre 1920 - juin 1922. Par M. le Dr Huot. II Géographie médicale de la région de Doumé. III Organisation du service. — Méthodes d'examen et de traitement\", '1923', '21'], ['21', \" La prophylaxie de la maladie du sommeil dans la région de Doumé (territoires du Cameroun), octobre 1920 - juin 1922. Par M. le Dr Huot. III Organisation du service. — Méthodes d'examen et de traitement. IV Reconnaissances effectuées. Délimitation des principaux foyers\", '1923', '21'], ['30', ' La prophylaxie de la maladie du sommeil dans la région de Doumé (territoires du Cameroun), octobre 1920 - juin 1922. Par M. le Dr Huot. IV Reconnaissances effectuées. Délimitation des principaux foyers. V Résultats prophylactiques et curatifs obtenus. Remarques cliniques', '1923', '21'], ['39', ' La prophylaxie de la maladie du sommeil dans la région de Doumé (territoires du Cameroun), octobre 1920 - juin 1922. Par M. le Dr Huot. V Résultats prophylactiques et curatifs obtenus. Remarques cliniques. VI Prophylaxie mécanique et administrative', '1923', '21'], ['42', \" Rapport sur l'épidémie de fièvre jaune à Grand-Bassam (18 août au 8 septembre 1922). Par M. le Dr Houillon et M. le Dr Bauvallet\", '1923', '21'], ['52', ' Rapport sur le trachome à Madagascar. Par M. le Dr Léon Collin', '1923', '21'], ['61', \" Les maladies endémo-épidémiques observées en Indochine pendant l'année 1921 (extrait du rapport annuel). Par M. le Dr Audibert\", '1923', '21'], ['75', \" L'administration du néosalvarsan chez les enfants par la voie rectale. Par M. le Dr Robineau\", '1923', '21'], ['77', ' Note sur la fièvre typhoïde et la vaccination antityphoïdique chez les tirailleurs sénégalais en Algérie. Par M. le Dr Judet de la Combe', '1923', '21'], ['81', \" Rapport sur le fonctionnement des divers services de l'Institut Pasteur de Saigon en 1921 (extraits). Par M. le Dr Bernard (Noël)\", '1923', '21'], ['92', ' Document cliniques. Accidents suivis de mort, consécutifs à des injections intraveineuses de novarsénobenzol. Par M. le Dr Gilbert-Desvallons', '1923', '21'], ['94', ' Variétés. Luchon, station sulfureuse de moyenne montagne pour coloniaux', '1923', '21'], ['96', \" Premier congrès de médecine tropicale de l'Afrique occidentale\", '1923', '21'], ['97', ' Revue analytique. Comment je comprends le trachome. Par E. Bartolotta', '1923', '21'], ['98', \" Foyers de malaria créés par la main de l'homme\", '1923', '21'], ['99', \" Traitement de la dysenterie amibienne par l'alcresta et l'émétine. Par Macgregor et Frew\", '1923', '21'], ['100', \" Traitement de la lèpre tubéreuse par l'amino-arséno-phénol (132). Par James Hasson (d'Alexandrie)\", '1923', '21'], ['101', ' Traitement de la lèpre par les sels de terres rares. Par Dr Noël', '1923', '21'], ['102', \" Traitement de la lèpre par les éthers éthyliques de l'huile de chaulmoogra\", '1923', '21'], ['104', \" Spirochètes vivant en liberté dans l'eau producteurs de maladies. Par Zuelzer\", '1923', '21'], ['105', ' Revue analytique. Prophylaxie et sérothérapie de la spirochétose ictérohémorragique. Par Ryokichi (Inada)', '1923', '21'], ['106', \" Note au sujet de corps observés chez Cimex rotundatus, provenant d'une région infectée de kala-azar, dans l'Assam\", '1923', '21'], ['107', ' Un cas de kala-azar traité par le «Bayer 205». Par Mollow', '1923', '21'], ['108', \" Un coup d'oeil sur les insectes piqueurs de l'Assam ayant des rapports avec le kala-azar. Par P.-R. Awati\", '1923', '21'], ['109', \" Quelques considérations concernant : la présence des «Leishmania» dans les tissus de l'intestin dans le kala-azar de l'Inde, les modifications pathologiques qui en sont la conséquence, ainsi que l'importance éventuelle de cette localisation. Par H. Marrian Perry\", '1923', '21'], ['114', \" Revue analytique. Sur la prophylaxie de l'ankylostomiase. Par Cort (W.), Ackert (J.), Augustine (D), Payne (FI.) et Payne (G.)\", '1923', '21'], ['119', \" Bibliographie. Rapport présenté à l'Académie de médecine. Par M. L. Camus\", '1923', '21'], ['121', ' Index et pathologie du trachome en Annam. Par M. Talbot', '1923', '21'], ['122', \" Guide d'ophtalmologie à l'usage des médecins indigènes. Par M. L. Collin\", '1923', '21'], ['123', ' Précis de parasitologie, 3e édition. Par E. Brumpt', '1923', '21'], ['124', ' Manuel de législation sanitaire française. Par les Drs H. Violle', '1923', '21'], ['125', ' Bulletin officiel', '1923', '21'], ['130', ' Nécrologie [Pichon (André)]', '1923', '21'], ['131', ' Nécrologie [Pichon (André) ; Nouaille-Degorce]', '1923', '21'], ['133', \" L'état sanitaire de la population indigène et le fonctionnement du service de l'assistance médicale dans la colonie de la Haute-Volta pendant l'année 1922. Par M. le Dr R. Le Dentu. I État sanitaire général des indigènes\", '1923', '21'], ['145', \" L'état sanitaire de la population indigène et le fonctionnement du service de l'assistance médicale dans la colonie de la Haute-Volta pendant l'année 1922. Par M. le Dr R. Le Dentu. II Natalité et mortalité infantile\", '1923', '21'], ['147', \" L'état sanitaire de la population indigène et le fonctionnement du service de l'assistance médicale dans la colonie de la Haute-Volta pendant l'année 1922. Par M. le Dr R. Le Dentu. II Natalité et mortalité infantile. III Assistance médicale\", '1923', '21'], ['150', \" L'état sanitaire de la population indigène et le fonctionnement du service de l'assistance médicale dans la colonie de la Haute-Volta pendant l'année 1922. Par M. le Dr R. Le Dentu. III Assistance médicale. IV Mouvement des malades\", '1923', '21'], ['152', \" L'état sanitaire de la population indigène et le fonctionnement du service de l'assistance médicale dans la colonie de la Haute-Volta pendant l'année 1922. Par M. le Dr R. Le Dentu. IV Mouvement des malades. V Vaccination antivariolique\", '1923', '21'], ['153', \" Considérations générales sur la morbidité et la mortalité au Cambodge pendant l'année 1921. Par M. le Dr C. Mathis\", '1923', '21'], ['163', \" Rôle capital des conditions d'existence de l'indigène de la forêt équatoriale et, en premier lieu, du facteur alimentaire, dans les variations de gravité de l'endémie trypanique. Par M. le Dr N. -L. Huot\", '1923', '21'], ['167', \" Sur l'équilibre manganèse-caféine dans le théier. Par M. le Dr Georges Lambert\", '1923', '21'], ['170', ' La lutte contre la syphilis sur le territoire de Kouang-Tchéou-Wan. Par M. le Dr Pierrat', '1923', '21'], ['173', \" La lutte antivénérienne à Madagascar pendant l'année 1922. Par M. le Dr Allain et M. le Dr Augagneur\", '1923', '21'], ['174', \" Considérations générales sur la morbidité et la mortalité en Annam pendant l'année 1921. Par M. le Dr Meslin\", '1923', '21'], ['182', ' Note au sujet de deux cas de pseudo-myiase rampante creeping disease-myiase linéaire, larbisch du Sénégal. Par M. le Dr Georgelin', '1923', '21'], ['186', \" La peste dans la province de Tananarive en 1922 et 1923(1). Par M. le Dr Cachin. I Marche générale de l'épidémie de peste\", '1923', '21'], ['188', \" La peste dans la province de Tananarive en 1922 et 1923(1). Par M. le Dr Cachin. I Marche générale de l'épidémie de peste. II Étude clinique\", '1923', '21'], ['194', ' La peste dans la province de Tananarive en 1922 et 1923(1). Par M. le Dr Cachin. II Étude clinique. III Épidémiologie', '1923', '21'], ['198', ' La peste dans la province de Tananarive en 1922 et 1923(1). Par M. le Dr Cachin. IV Lutte contre la peste et prophylaxie', '1923', '21'], ['204', ' Erythèmes au cours du choléra. Par M. Dong-Ngoc-Dieu. Et Par M. le Dr Millous', '1923', '21'], ['209', \" Maladies endémiques et endémo-épidémiques constatées au Gabon pendant l'année 1921-1922. Par M. le Dr Georgelin\", '1923', '21'], ['215', ' Utilisation des comprimés de quinine aux colonies', '1923', '21'], ['216', \" Clinique d'Outre-Mer. Un cas d'occlusion intestinale consécutif à une hernie étranglée sans contenu intestinal ni épiploïque. Par M. le Dr Gascougnolle\", '1923', '21'], ['217', ' Documents officiels', '1923', '21'], ['218', ' Documents officiels. Enquête sur la bilharziose ou schistosomose ', '1923', '21'], ['219', ' Circulaire au sujet des vaccinations antivarioliques', '1923', '21'], ['224', \" Documents officiels. Office international d'hygiène publique. Questionnaire relatif à la fièvre récurrente. Établi par M. le médecin inspecteur général Gouzien\", '1923', '21'], ['226', \" Documents officiels. L'épidémie de typhus récurrent au Soudan 1921-1922\", '1923', '21'], ['228', ' Variétés. Congrès international de médecine et de pharmacie militaires', '1923', '21'], ['229', \" Société de médecine et d'hygiène coloniale de Marseille\", '1923', '21'], ['231', ' Le suicide chez la femme chinoise. Par M. le Dr Casabianca', '1923', '21'], ['232', ' Les sels de bismuth dans la syphilis', '1923', '21'], ['233', ' La fièvre fluviatile du Japon (Tsutsugamushi-Disease) à Formose. Par Hatori (Juro)', '1923', '21'], ['234', \" Doit-on attribuer un rôle moins important au rat dans l'épidémiologie de la peste ? Par Swellengrebel (N.)\", '1923', '21'], ['235', \" Apparition de la fièvre ondulante dans l'Afrique du Sud. Par Gow (Archibald)\", '1923', '21'], ['236', ' La fièvre de Malte au Pérou. Par Rebagliati (Raul)', '1923', '21'], ['237', \" Un cas de fièvre bilieuse hémoglobinurique, compliqué d'hémorragie rétinienne. Par Connel (R. E. W.)\", '1923', '21'], ['238', ' Revue analytique. Traitement et pathogénie de la fièvre bilieuse hémoglobinurique. Par Beck (R.)', '1923', '21'], ['239', \" Découverte d'un nouveau gîte à moustiques. Par Haworth (W. E.)\", '1923', '21'], ['240', \" Traitement par la méthode d'Escomel, de l'infection par Trichomonas chez les enfants. Par Marcucci Delgado\", '1923', '21'], ['241', \" Recherches au sujet de l'influence de l'usage de chaussures sur le nombre des porteurs d'ankylostomes. Par Comperto (H. C.)\", '1923', '21'], ['242', ' Le premier cas de granulome vénérien observé au Pérou. Par Morales Macedo (Carlos)', '1923', '21'], ['243', ' Le granulome ulcéreux des parties génitales en Tripolitaine. Par Onorato (Raffaele)', '1923', '21'], ['244', \" Bibliographie. Diagnostic et traitement des rétrécissements de l'oesophage et de la trachée. Par le Dr Jean Guisez\", '1923', '21'], ['245', ' Manuel de neurologie oculaire (2e édition). Par F. de Lapersonne', '1923', '21'], ['246', \" L'Infirmière Française\", '1923', '21'], ['247', ' Annales de Parasitologie humaine et comparée', '1923', '21'], ['248', ' Bulletin officiel', '1923', '21'], ['251', ' Nécrologie [Pouthiou-Lavieille ; Bouilliez]', '1923', '21'], ['255', ' Nécrologie [Bouilliez ; Gaudiche ; Le Calvé] ', '1923', '21'], ['256', ' Table des matières', '1923', '21'], ['257', \" L'Alastrim. Épidémie observée en 1922-1923 à la Martinique. Par M. le Dr Arnould et par M. le Dr Baujean. Introduction et généralités\", '1923', '21'], ['262', \" L'Alastrim. Épidémie observée en 1922-1923 à la Martinique. Par M. le Dr Arnould et par M. le Dr Baujean. Introduction et généralités. Morbidité\", '1923', '21'], ['263', \" L'Alastrim. Épidémie observée en 1922-1923 à la Martinique. Par M. le Dr Arnould. Et Par M. le Dr Baujean. Morbidité. Mortalité. Alastrim et vaccination\", '1923', '21'], ['264', \" L'Alastrim. Épidémie observée en 1922-1923 à la Martinique. Par M. le Dr Arnould et par M. le Dr Baujean. Alastrim et vaccination. Origine de l'épidémie\", '1923', '21'], ['265', \" L'Alastrim. Épidémie observée en 1922-1923 à la Martinique. Par M. le Dr Arnould et par M. le Dr Baujean. Origine de l'épidémie. Service sanitaire maritime\", '1923', '21'], ['266', \" L'Alastrim. Épidémie observée en 1922-1923 à la Martinique. Par M. le Dr Arnould et par M. le Dr Baujean. Service sanitaire maritime. Prophylaxie. Symptomatologie\", '1923', '21'], ['272', \" L'Alastrim. Épidémie observée en 1922-1923 à la Martinique. Par M. le Dr Arnould et par M. le Dr Baujean. Symptomatologie. Traitement\", '1923', '21'], ['273', \" L'Alastrim. Épidémie observée en 1922-1923 à la Martinique. Par M. le Dr Arnould et par M. le Dr Baujean. Traitement. Récidives. Diagnostic et discussion\", '1923', '21'], ['277', \" L'Alastrim. Épidémie observée en 1922-1923 à la Martinique. Par M. le Dr Arnould et par M. le Dr Baujean. Diagnostic et discussion. Conclusion pratique\", '1923', '21'], ['278', \" L'Alastrim. Épidémie observée en 1922-1923 à la Martinique. Par M. le Dr Arnould et par M. le Dr Baujean. Conclusion pratique. Recherches de laboratoire\", '1923', '21'], ['282', ' Le Paludisme en Émyrne. Étude prophylactique et thérapeutique. Par M. le Dr Bouffard', '1923', '21'], ['295', ' Le Paludisme en Émyrne. Étude prophylactique et thérapeutique. Par M. le Dr Bouffard. Prophylaxie antipalustre à envisager pour Tananarive', '1923', '21'], ['299', ' Le Paludisme en Émyrne. Étude prophylactique et thérapeutique. Par M. le Dr Bouffard. Résultat de la quinoprophylaxie dans dix villages', '1923', '21'], ['306', ' Le Paludisme en Émyrne. Étude prophylactique et thérapeutique. Par M. le Dr Bouffard. Résultat de la quinoprophylaxie dans dix villages. Recherches faites en dehors de la province de Tananarive', '1923', '21'], ['310', ' Le Paludisme en Émyrne. Étude prophylactique et thérapeutique. Par M. le Dr Bouffard. Recherches faites en dehors de la province de Tananarive. Thérapeutique économique du paludisme', '1923', '21'], ['320', ' Le Paludisme en Émyrne. Étude prophylactique et thérapeutique. Par M. le Dr Bouffard. Thérapeutique économique du paludisme. Conclusions', '1923', '21'], ['323', \" Note au sujet de l'état sanitaire des contingents indigènes du corps d'armée colonial pendant l'année 1922. Par M. le Dr Clouard. A. Tenue sanitaire des éléments indigènes dans les corps actifs\", '1923', '21'], ['331', \" Note au sujet de l'état sanitaire des contingents indigènes du corps d'armée colonial pendant l'année 1922. Par M. le Dr Clouard. B. Étude comparative de la morbidité entre les différentes races\", '1923', '21'], ['334', \" Note au sujet de l'état sanitaire des contingents indigènes du corps d'armée colonial pendant l'année 1922. Par M. le Dr Clouard. B. Étude comparative de la morbidité entre les différentes races. C. Importance et causes du déchet fourni par les éléments indigènes. Coefficient d'usure des différentes races\", '1923', '21'], ['338', ' Les traitements pratiques. La dysenterie amibienne. Par M. le Dr Normet', '1923', '21'], ['345', ' Le service médical dans les postes consulaires de Chine en 1921. Poste consulaire de Yunnanfou. Par M. le Dr Mouillac', '1923', '21'], ['348', ' Poste consulaire de Mongtseu. Par M. le Dr Tardieu', '1923', '21'], ['351', ' Poste consulaire de Hoi-How. Par M. le Dr Esserteau', '1923', '21'], ['353', ' Poste consulaire de Canton. Par M. le Dr Casabianca', '1923', '21'], ['356', \" Documents cliniques. Note sur un cas de mort survenue à la suite d'une injection de 914. Par M. le Dr Chatenay\", '1923', '21'], ['358', ' Un kyste sous-hépatique dû à fasciola hepatica. Par M. le Dr Duga', '1923', '21'], ['360', ' Documents cliniques. Un curieux cas de dépigmentation généralisée chez un indigène de Tshamba circonscription de Garoua (Cameroun). Par M. le Dr Duga', '1923', '21'], ['361', ' Documents officiels. Circulaire au sujet de la lutte antivénérienne', '1923', '21'], ['366', ' Revue analytique. Prophylaxie anti-vénérienne et thérapeutique anti-blennorragique. Par Pénaud', '1923', '21'], ['368', \" Revue analytique. Prophylaxie anti-vénérienne et thérapeutique anti-blennorragique. Par Pénaud. Ce qu'on appelle immunité dans la syphilis. Par A. Gauducheau\", '1923', '21'], ['369', \" Traitement de l'érythro-mélalgie tropicale (Burning pain in the feet) par les injections d'antimoine. Par Clarke (J. T.)\", '1923', '21'], ['371', \" Infection expérimentale de l'homme par des ascarides. Par Koino (S.)\", '1923', '21'], ['372', \" Déplacements de larves d'ascarides dans le corps de l'animal. Par Tochihara (Isamu) et Takagi (Shyozo)\", '1923', '21'], ['373', ' Le néosalvarsan a-t-il une action contre le ténia ? Par Lundsgaard', '1923', '21'], ['374', \" Le traitement de l'ankylostomose par le tétrachlorure de carbone. Par Lambert (S. M.)\", '1923', '21'], ['375', \" Le naphtol ß dans le traitement de l'ankylostomose. Par Leach et Hampton\", '1923', '21'], ['376', ' Recherche des oeufs de «Shistosoma Mansoni» dans les matières fécales. Par Fülleborn (F.)', '1923', '21'], ['377', \" Le tartrate d'antimoine dans la bilharziose ; note préliminaire. Par Libby (W. E.)\", '1923', '21'], ['378', \" Efficacité du traitement de la bilharziose par les injections intraveineuses de tartrate d'antimoine. Par Phease (R. N.)\", '1923', '21'], ['379', ' Le bismuth dans le traitement de la lèpre. Par Matta (Cagliari)', '1923', '21'], ['380', \" Bibliographie. Notice sur le fonctionnement du service de santé de l'armée française en Rhénanie de 1792 à 1814. Par Lasnet\", '1923', '21'], ['381', ' Les oeuvres françaises de médecine sociale en Rhénanie. Par Lasnet', '1923', '21'], ['382', ' Entretiens dermatologiques (nouvelle série, 2e volume). Par R. Saboureau', '1923', '21'], ['383', ' Bulletin officiel', '1923', '21'], ['389', ' Nécrologie [Martel Félix-Léon]', '1923', '21'], ['390', ' Table analytique des matières du tome vingt-et-unième. A', '1923', '21'], ['391', ' Table analytique des matières du tome vingt-et-unième. B. C. D', '1923', '21'], ['392', ' Table analytique des matières du tome vingt-et-unième. D. E. F. G. H', '1923', '21'], ['393', ' Table analytique des matières du tome vingt-et-unième. H. I. J. K. L', '1923', '21'], ['394', ' Table analytique des matières du tome vingt-et-unième. L. M. N. O. P', '1923', '21'], ['395', ' Table analytique des matières du tome vingt-et-unième. P. R. S. T. U. V', '1923', '21'], ['396', ' Table analytique des matières du tome vingt-et-unième. V. W. Y', '1923', '21']]\n"
     ]
    }
   ],
   "source": [
    "Liste_entrees_no_doublesentrees= []\n",
    "\n",
    "#le _t_ = \"type\"\n",
    "\n",
    "pattern_double_entree =\".*\\/(.*)\"\n",
    "\n",
    "for entree_t_list in Liste_entrees :\n",
    "    for entree_t_tupple in entree_t_list :\n",
    "        tupple_to_list = list(entree_t_tupple)\n",
    "        tupple_to_list.append(revue_annee)\n",
    "        tupple_to_list.append(revue_numero)\n",
    "\n",
    "        \n",
    "        #lorsqu'une entrée à la même page comprend 2 articles, ils sont séparés par un \"/\"\n",
    "        if re.search(pattern_double_entree,tupple_to_list[1],0, re.MULTILINE):\n",
    "            tupple_to_list[1] = re.sub(r\"(.*\\/(.*))\",\"\\\\2\",tupple_to_list[1],0, re.MULTILINE)\n",
    "         \n",
    "            Liste_entrees_no_doublesentrees.append(tupple_to_list)\n",
    "        else :\n",
    "            Liste_entrees_no_doublesentrees.append(tupple_to_list)\n",
    "\n",
    "            \n",
    "               \n",
    "#retirer les white spaces en début d'article\n",
    "\n",
    "# for entree in Liste_entrees_no_doublesentrees:\n",
    "#     entree[1]= re.sub(r\"^ \",\"\",entree[1])\n",
    "#     print(entree[1])\n",
    "\n",
    "print(Liste_entrees_no_doublesentrees)"
   ]
  },
  {
   "cell_type": "code",
   "execution_count": 29,
   "metadata": {
    "scrolled": true
   },
   "outputs": [],
   "source": [
    "# # ###*tentative avortée d'isoler le nom de la section de la revue : \n",
    "# Liste_entrees_no_doublesentrees= []\n",
    "\n",
    "# #le _t_ = \"type\"\n",
    "\n",
    "# pattern_double_entree =\".*\\/(.*)\"\n",
    "# pattern_nom_section = \"(^[A-z]+( [A-z]+)?\\.)\"\n",
    "# pattern_double_entree_nom_section = \"(^[A-z]+\\s([A-z]+)?\\.).*\\/(.*)\"\n",
    "\n",
    "# for entree_t_list in Liste_entrees :\n",
    "#     for entree_t_tupple in entree_t_list :\n",
    "#         tupple_to_list = list(entree_t_tupple)\n",
    "#         tupple_to_list.append(revue_annee)\n",
    "#         tupple_to_list.append(revue_numero)\n",
    "\n",
    "        \n",
    "#         #lorsqu'une entrée à la même page comprend 2 articles, ils sont séparés par un \"/\"\n",
    "#         if re.search(pattern_double_entree,tupple_to_list[1]):\n",
    "# #             print(tupple_to_list[1])\n",
    "#             if re.search(r\"(^[A-z]+( [A-z]+)?\\.)\",tupple_to_list[1]):\n",
    "#                 print(\"TROUVEEEEE\")\n",
    "#                 tupple_to_list[1] = re.sub(pattern_double_entree_nom_section,\"\\1\",tupple_to_list[1],0, re.MULTILINE)\n",
    "                \n",
    "#             else:\n",
    "#                 tupple_to_list[1] = re.sub(pattern_double_entree,\"\\1\",tupple_to_list[1],0, re.MULTILINE)\n",
    "# #                 print(tupple_to_list[1])\n",
    "            \n",
    "#             #retirer les white spaces en début d'article\n",
    "#             tupple_to_list[1] = re.sub(r\"^ \",\"\",tupple_to_list[1])\n",
    "\n",
    "#             Liste_entrees_no_doublesentrees.append(tupple_to_list)\n",
    "#         else :\n",
    "#             Liste_entrees_no_doublesentrees.append(tupple_to_list)\n",
    "\n",
    "# # print(Liste_entrees_no_doublesentrees)"
   ]
  },
  {
   "cell_type": "markdown",
   "metadata": {},
   "source": [
    "#### 2.3 Retirer les sections qui ne nous intéressent pas"
   ]
  },
  {
   "cell_type": "code",
   "execution_count": null,
   "metadata": {},
   "outputs": [],
   "source": [
    "Liste_articles = []\n",
    "Liste_relations_scientifiques = []\n",
    "Liste_administratif = []\n",
    "Liste_necrologies = []\n",
    "\n",
    "for entree in Liste_entrees_no_doublesentrees :\n",
    "\n",
    "    ##ADMINISTRATIF: \n",
    "    \n",
    "    #Bulletins officiels \n",
    "    if re.search(r\"(.*)?Bulletin officiel(.*)?\", entree[1]):\n",
    "        Liste_administratif.append(entree)\n",
    "\n",
    "    #Documents administratifs\n",
    "    if re.search(r\"(.*)?(A|a)dministratif(.*)?\", entree[1]):\n",
    "        Liste_administratif.append(entree)\n",
    "    \n",
    "    #Circulaire\n",
    "    elif re.search(r\"(.*)?((C|c)irculaire)(.*)?\",entree[1]):\n",
    "        Liste_administratif.append(entree)\n",
    "        \n",
    "    #Promotion\n",
    "    elif re.search(r\"(.*)?(Promotion)(.*)?\",entree[1]):\n",
    "        Liste_administratif.append(entree)\n",
    "        \n",
    "    ##RELATIONS AVEC LES AUTRES PRODUCTIONS SCIENTIFIQUES  : \n",
    "    #Journaux\n",
    "    elif re.search(r\"(.*)?((J|j)ournaux)(.*)?\",entree[1]):\n",
    "        Liste_relations_scientifiques.append(entree)\n",
    "\n",
    "    #Revue analytique\n",
    "    elif re.search(r\"(.*)?(Revue (analytique)?)(.*)?\",entree[1]):\n",
    "        Liste_relations_scientifiques.append(entree)\n",
    "\n",
    "    #Revue des journaux\n",
    "    elif re.search(r\"(.*)?(Revue des journaux)(.*)?\",entree[1]):\n",
    "        Liste_relations_scientifiques.append(entree)\n",
    "        \n",
    "    #Livres reçus\n",
    "    elif re.search(r\"(.*)?(Livres)(.*)?\",entree[1]):\n",
    "        Liste_relations_scientifiques.append(entree)\n",
    "\n",
    "    #Bibliographies\n",
    "    elif re.search(r\"(.*)?((B|i)bliographi)(.*)?\",entree[1]):\n",
    "        Liste_relations_scientifiques.append(entree)\n",
    "    \n",
    "    ##AUTRES: \n",
    "    #Table analytique\n",
    "    elif re.search(r\"(.*)?(Table (analytique)?)(.*)?\",entree[1]):\n",
    "        pass\n",
    "   \n",
    "    #Nécrologies\n",
    "    elif re.search(r\"(.*)?(N(e|é)crologie)(.*)?\",entree[1]):\n",
    "        Liste_necrologies.append(entree)\n",
    "        \n",
    "    else :\n",
    "        Liste_articles.append(entree)\n",
    "#print(Liste_articles)"
   ]
  },
  {
   "cell_type": "code",
   "execution_count": null,
   "metadata": {},
   "outputs": [],
   "source": [
    "dico_AHMC= {\"articles\":Liste_articles,\"administratif\":Liste_administratif,\"relations_scientifiques\":Liste_relations_scientifiques,\"necrologies\":Liste_necrologies}"
   ]
  },
  {
   "cell_type": "code",
   "execution_count": null,
   "metadata": {},
   "outputs": [],
   "source": [
    "dico_AHMC[\"relations_scientifiques\"]"
   ]
  },
  {
   "cell_type": "code",
   "execution_count": null,
   "metadata": {},
   "outputs": [],
   "source": [
    "# Liste_articles"
   ]
  },
  {
   "cell_type": "code",
   "execution_count": null,
   "metadata": {},
   "outputs": [],
   "source": []
  },
  {
   "cell_type": "markdown",
   "metadata": {},
   "source": [
    "### 3. Création d'un dataframe"
   ]
  },
  {
   "cell_type": "code",
   "execution_count": null,
   "metadata": {},
   "outputs": [],
   "source": [
    "#### 3.1 List to df"
   ]
  },
  {
   "cell_type": "code",
   "execution_count": null,
   "metadata": {},
   "outputs": [],
   "source": [
    "df = pd.DataFrame(Liste_articles)\n",
    "    #print(df)\n",
    "df.columns = ['article_page', 'article_titre','revue_annee','revue_numero']"
   ]
  },
  {
   "cell_type": "markdown",
   "metadata": {},
   "source": [
    "#### 3.2 Séparation titre de l'article // auteur"
   ]
  },
  {
   "cell_type": "markdown",
   "metadata": {},
   "source": [
    "<i> 3.2.1. créer une nouvelle colonne avec nom(s)  auteur(s) (et ce qui suit) : </i>"
   ]
  },
  {
   "cell_type": "code",
   "execution_count": null,
   "metadata": {},
   "outputs": [],
   "source": [
    "SearchAuteur = \"(.*) (P|p)ar (.*)\"\n",
    "df['article_auteur'] = df[\"article_titre\"].str.split(SearchAuteur).str[3]\n",
    "#print(df)"
   ]
  },
  {
   "cell_type": "markdown",
   "metadata": {},
   "source": [
    "<i> 3.2.2. retirer nom(s) auteur(s) (et ce qui suit) de article_titre</i>"
   ]
  },
  {
   "cell_type": "code",
   "execution_count": null,
   "metadata": {},
   "outputs": [],
   "source": [
    "df.article_titre = df.article_titre.str.replace(SearchAuteur, r\"\\1\") "
   ]
  },
  {
   "cell_type": "code",
   "execution_count": null,
   "metadata": {},
   "outputs": [],
   "source": [
    "print(df.article_auteur)"
   ]
  },
  {
   "cell_type": "code",
   "execution_count": null,
   "metadata": {},
   "outputs": [],
   "source": [
    "liste_auteurs = []\n",
    "for auteur in df[\"article_auteur\"]: \n",
    "    liste_auteurs.append(auteur)"
   ]
  },
  {
   "cell_type": "markdown",
   "metadata": {},
   "source": [
    "####  3.3. séparer l'auteur du détail de l'article"
   ]
  },
  {
   "cell_type": "code",
   "execution_count": null,
   "metadata": {},
   "outputs": [],
   "source": [
    "##Séparer les noms d'auteurs du détail des articles et retirerle \"M.le Dr\"\n",
    "SearchDetail = \"(.*)\\.(.*)\"\n",
    "SearchAuteur_M_Dr=\"(M)?(M\\. )?le Dr(.)(.*)\"\n",
    "\n",
    "\n",
    "df['article_detail'] = df[\"article_auteur\"].str.split(SearchDetail,-1).str[2]\n",
    "\n",
    "\n",
    "#retirer nom auteurs (et ce qui suit) de article_auteur\n",
    "\n",
    "\n",
    "for index in range(len(df.article_auteur)-1):\n",
    "    if type(df.iloc[index,4]) == str:\n",
    "        df.iloc[index,4] = re.sub(SearchDetail, r\"\\1\", df.iloc[index,4])\n",
    "\n",
    "\n",
    "# for auteur in df[\"article_auteur\"]:\n",
    "#     if type(auteur) is str :\n",
    "# #         print(auteur)\n",
    "#         Nom_auteur = re.sub(SearchAuteur_M_Dr,r\"\\4\",auteur)\n",
    "# #         print(df.ilocNom_auteur)\n",
    "# for index in range (len(df[\"article_auteur\"])):\n",
    "#     df.iloc[index,4] = \n",
    "#         print(auteur,df[\"article_detail\"])\n",
    "        #         auteur = re.sub(SearchDetail, r\"\\1\", auteur)\n",
    "#         print(auteur)\n",
    "\n",
    "# print(df[\"article_auteur\"])"
   ]
  },
  {
   "cell_type": "code",
   "execution_count": null,
   "metadata": {},
   "outputs": [],
   "source": [
    "df[\"article_auteur\"]"
   ]
  },
  {
   "cell_type": "code",
   "execution_count": null,
   "metadata": {},
   "outputs": [],
   "source": [
    "# Vérification : \n",
    "print(\"titre : \",df.iloc[0,1])\n",
    "print(\"\\n\")\n",
    "print(\"auteur : \", df.iloc[0,4])\n",
    "print(\"\\n\")\n",
    "print(\"détail : \", df.iloc[0,5])"
   ]
  },
  {
   "cell_type": "markdown",
   "metadata": {},
   "source": [
    "#### 3.4. INSERER : article_id \n",
    "      modèle de l'id : NomRevue-Numero-Pagedébut"
   ]
  },
  {
   "cell_type": "code",
   "execution_count": null,
   "metadata": {},
   "outputs": [],
   "source": [
    "df['article_id'] = \"AHMC-\"+df[\"revue_numero\"]+\"-\"+df[\"article_page\"]\n",
    "print(df['article_id'])"
   ]
  },
  {
   "cell_type": "markdown",
   "metadata": {},
   "source": [
    "### 4. Mise au propre pour exportation"
   ]
  },
  {
   "cell_type": "markdown",
   "metadata": {},
   "source": [
    "#### 4.1. Réorganisation des colonnes suite aux divers ajouts"
   ]
  },
  {
   "cell_type": "code",
   "execution_count": null,
   "metadata": {},
   "outputs": [],
   "source": [
    "cols = df.columns.tolist()\n",
    "cols = [cols[6],cols[4],cols[5],cols[1],cols[2],cols[3],cols[0]]\n",
    "df=df[cols]"
   ]
  },
  {
   "cell_type": "markdown",
   "metadata": {},
   "source": [
    "#### 4.2. Retirer les white spaces en début de string "
   ]
  },
  {
   "cell_type": "code",
   "execution_count": null,
   "metadata": {},
   "outputs": [],
   "source": [
    "for i in range(len(df)):\n",
    "    for col in range (1,4):\n",
    "        if type(df.iloc[i,col]) is str :\n",
    "            if re.match(r\"^ \",df.iloc[i,col]):\n",
    "                df.iloc[i,col] = df.iloc[i,col].replace(r\"(^ )\",r\"\")"
   ]
  },
  {
   "cell_type": "markdown",
   "metadata": {},
   "source": [
    "#### 4.3. Retirer les doublons d'article "
   ]
  },
  {
   "cell_type": "code",
   "execution_count": null,
   "metadata": {},
   "outputs": [],
   "source": [
    "df=df.drop_duplicates(subset=['article_titre'])"
   ]
  },
  {
   "cell_type": "markdown",
   "metadata": {},
   "source": [
    "#### 4.3. Vérification avant exportation du df en csv"
   ]
  },
  {
   "cell_type": "code",
   "execution_count": null,
   "metadata": {},
   "outputs": [],
   "source": [
    "df"
   ]
  },
  {
   "cell_type": "code",
   "execution_count": null,
   "metadata": {},
   "outputs": [],
   "source": []
  },
  {
   "cell_type": "code",
   "execution_count": null,
   "metadata": {},
   "outputs": [],
   "source": []
  },
  {
   "cell_type": "code",
   "execution_count": null,
   "metadata": {},
   "outputs": [],
   "source": []
  },
  {
   "cell_type": "code",
   "execution_count": null,
   "metadata": {},
   "outputs": [],
   "source": []
  },
  {
   "cell_type": "code",
   "execution_count": null,
   "metadata": {},
   "outputs": [],
   "source": []
  },
  {
   "cell_type": "code",
   "execution_count": null,
   "metadata": {},
   "outputs": [],
   "source": []
  },
  {
   "cell_type": "code",
   "execution_count": null,
   "metadata": {},
   "outputs": [],
   "source": []
  },
  {
   "cell_type": "code",
   "execution_count": null,
   "metadata": {},
   "outputs": [],
   "source": []
  },
  {
   "cell_type": "code",
   "execution_count": null,
   "metadata": {},
   "outputs": [],
   "source": []
  },
  {
   "cell_type": "code",
   "execution_count": null,
   "metadata": {},
   "outputs": [],
   "source": []
  },
  {
   "cell_type": "code",
   "execution_count": null,
   "metadata": {},
   "outputs": [],
   "source": []
  },
  {
   "cell_type": "code",
   "execution_count": null,
   "metadata": {},
   "outputs": [],
   "source": []
  },
  {
   "cell_type": "code",
   "execution_count": null,
   "metadata": {},
   "outputs": [],
   "source": [
    "df_relations_scientifiques = pd.DataFrame(Liste_relations_scientifiques)"
   ]
  },
  {
   "cell_type": "code",
   "execution_count": null,
   "metadata": {},
   "outputs": [],
   "source": [
    "df_relations_scientifiques"
   ]
  },
  {
   "cell_type": "code",
   "execution_count": null,
   "metadata": {},
   "outputs": [],
   "source": [
    "df_administratif = pd.DataFrame(Liste_administratif)\n",
    "df_necrologies = pd.DataFrame(Liste_necrologies)"
   ]
  },
  {
   "cell_type": "code",
   "execution_count": null,
   "metadata": {},
   "outputs": [],
   "source": [
    "df_necrologies"
   ]
  },
  {
   "cell_type": "code",
   "execution_count": null,
   "metadata": {},
   "outputs": [],
   "source": [
    "Liste_administratif"
   ]
  },
  {
   "cell_type": "code",
   "execution_count": null,
   "metadata": {},
   "outputs": [],
   "source": []
  },
  {
   "cell_type": "code",
   "execution_count": null,
   "metadata": {},
   "outputs": [],
   "source": []
  },
  {
   "cell_type": "code",
   "execution_count": null,
   "metadata": {},
   "outputs": [],
   "source": []
  }
 ],
 "metadata": {
  "kernelspec": {
   "display_name": "Python 3",
   "language": "python",
   "name": "python3"
  },
  "language_info": {
   "codemirror_mode": {
    "name": "ipython",
    "version": 3
   },
   "file_extension": ".py",
   "mimetype": "text/x-python",
   "name": "python",
   "nbconvert_exporter": "python",
   "pygments_lexer": "ipython3",
   "version": "3.8.5"
  }
 },
 "nbformat": 4,
 "nbformat_minor": 4
}
