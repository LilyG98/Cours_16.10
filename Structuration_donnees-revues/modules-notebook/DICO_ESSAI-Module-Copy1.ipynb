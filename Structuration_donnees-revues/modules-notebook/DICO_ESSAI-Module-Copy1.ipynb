{
 "cells": [
  {
   "cell_type": "markdown",
   "metadata": {},
   "source": [
    "# Dans ce module je fais un essai d'utilisation du dictionnaire des AHMC \n",
    "\n",
    "## liste des nouvelles fonctions: \n",
    "url_to_dico_AHMC\n",
    "\n",
    "dico_to_df_articles\n",
    "\n",
    "dico_to_df_administratif\n",
    "\n",
    "dico_to_df_relations scientifiques"
   ]
  },
  {
   "cell_type": "markdown",
   "metadata": {},
   "source": [
    "### import module_structuration_revues"
   ]
  },
  {
   "cell_type": "code",
   "execution_count": 1,
   "metadata": {},
   "outputs": [],
   "source": [
    "import pandas as pd\n",
    "# import module_structuration_revues\n",
    "import DICO_ESSAI_module_structuration_revues as module"
   ]
  },
  {
   "cell_type": "markdown",
   "metadata": {},
   "source": [
    "# AHMC"
   ]
  },
  {
   "cell_type": "code",
   "execution_count": 2,
   "metadata": {},
   "outputs": [],
   "source": [
    "with open (\"Liste-URL-AHMC.txt\",\"r\") as Liste_URL_AHMC :\n",
    "    liste_url_AHMC = Liste_URL_AHMC.read().split(\" ; \")"
   ]
  },
  {
   "cell_type": "code",
   "execution_count": 3,
   "metadata": {
    "scrolled": true
   },
   "outputs": [],
   "source": [
    "l = []\n",
    "Dico_AHMC={\"articles\":[],\"relations_scientifiques\":[],\"administratif\":[]}\n",
    "for url in liste_url_AHMC:\n",
    "    Dico =  module.url_to_dico_AHMC(url)\n",
    "    \n",
    "    for articles in Dico[\"articles\"]:\n",
    "        Dico_AHMC[\"articles\"].append(articles)\n",
    "    \n",
    "    for relations_scientifiques in Dico[\"relations_scientifiques\"]:\n",
    "        Dico_AHMC[\"relations_scientifiques\"].append(relations_scientifiques)\n",
    "    \n",
    "    for administratif in Dico[\"administratif\"]:\n",
    "        Dico_AHMC[\"administratif\"].append(administratif)\n",
    "    \n",
    "#     Dico_AHMC[\"articles\"].append(Dico[\"articles\"])\n",
    "#     Dico_AHMC[\"administratif\"].append(Dico[\"administratif(\"])\n",
    "#     Dico_AHMC[\"relations_scientifiques\"].append(Dico[\"relations_scientifiques\"])\n",
    "#     Dico_AHMC = \n",
    "#     print(url,Dico)\n"
   ]
  },
  {
   "cell_type": "code",
   "execution_count": 4,
   "metadata": {},
   "outputs": [],
   "source": [
    "# print(Dico)"
   ]
  },
  {
   "cell_type": "markdown",
   "metadata": {},
   "source": [
    "# **Dataframe : Contributions originales**"
   ]
  },
  {
   "cell_type": "code",
   "execution_count": 18,
   "metadata": {},
   "outputs": [],
   "source": [
    "df_articles = module.dico_to_df_articles(Dico_AHMC)\n",
    "df_articles_sans_doublons = module.df_sans_doublons(df_articles)\n",
    "df_articles_sans_doublons.to_csv(\"/home/humanum/Bureau/Structuration-donnees/Revues/AHMC/DICO_articles_AHMC_nodoublons.tsv\",sep=\"\\t\")"
   ]
  },
  {
   "cell_type": "code",
   "execution_count": 14,
   "metadata": {},
   "outputs": [],
   "source": [
    "# df_articles"
   ]
  },
  {
   "cell_type": "markdown",
   "metadata": {},
   "source": [
    "# **Dataframe avec les entrées administratives**"
   ]
  },
  {
   "cell_type": "code",
   "execution_count": 19,
   "metadata": {},
   "outputs": [],
   "source": [
    "df_administratif = pd.DataFrame(Dico_AHMC[\"administratif\"], columns=[\"entree_page\", \"entree_titre\", \"revue_annee\", \"revue_numero\"]) \n",
    "\n",
    "df_administratif\n",
    "df_administratif.to_csv(\"/home/humanum/Bureau/Structuration-donnees/Revues/AHMC/DICO_administratif_AHMC.tsv\",sep=\"\\t\")\n",
    "\n",
    "#     df_relations_scientifiques = module.dico_to_df_relations_scientifiques(Dico)\n",
    "#     print(df_relations_scientifiques)"
   ]
  },
  {
   "cell_type": "markdown",
   "metadata": {},
   "source": [
    "# **Dataframe : Relations scientifiques**"
   ]
  },
  {
   "cell_type": "code",
   "execution_count": 22,
   "metadata": {
    "scrolled": true
   },
   "outputs": [],
   "source": [
    "df_relations_sc = pd.DataFrame(Dico_AHMC[\"relations_scientifiques\"], columns=[\"entree_page\", \"entree_titre\", \"revue_annee\", \"revue_numero\"]) \n",
    "\n",
    "df_relations_sc.to_csv(\"/home/humanum/Bureau/Structuration-donnees/Revues/AHMC/DICO_relations-sc_AHMC.tsv\",sep=\"\\t\")\n",
    "\n",
    "# df_relations_sc\n",
    "# for index in range (len(df)):\n",
    "    \n",
    "#     df[\"entree_id\"] = df[[\"revue_numero\"].astype(str) + df[\"entree_page\"].astype(str)].agg('-'.join, axis=1)\n",
    "# #     print(key)"
   ]
  },
  {
   "cell_type": "code",
   "execution_count": 15,
   "metadata": {},
   "outputs": [
    {
     "data": {
      "text/html": [
       "<div>\n",
       "<style scoped>\n",
       "    .dataframe tbody tr th:only-of-type {\n",
       "        vertical-align: middle;\n",
       "    }\n",
       "\n",
       "    .dataframe tbody tr th {\n",
       "        vertical-align: top;\n",
       "    }\n",
       "\n",
       "    .dataframe thead th {\n",
       "        text-align: right;\n",
       "    }\n",
       "</style>\n",
       "<table border=\"1\" class=\"dataframe\">\n",
       "  <thead>\n",
       "    <tr style=\"text-align: right;\">\n",
       "      <th></th>\n",
       "      <th>entree_page</th>\n",
       "      <th>entree_titre</th>\n",
       "      <th>revue_annee</th>\n",
       "      <th>revue_numero</th>\n",
       "    </tr>\n",
       "  </thead>\n",
       "  <tbody>\n",
       "    <tr>\n",
       "      <th>0</th>\n",
       "      <td>158</td>\n",
       "      <td>Revue des journaux étrangers. British médical ...</td>\n",
       "      <td>1898</td>\n",
       "      <td>01</td>\n",
       "    </tr>\n",
       "    <tr>\n",
       "      <th>1</th>\n",
       "      <td>160</td>\n",
       "      <td>Livres reçus</td>\n",
       "      <td>1898</td>\n",
       "      <td>01</td>\n",
       "    </tr>\n",
       "    <tr>\n",
       "      <th>2</th>\n",
       "      <td>161</td>\n",
       "      <td>Bibliographie</td>\n",
       "      <td>1898</td>\n",
       "      <td>01</td>\n",
       "    </tr>\n",
       "    <tr>\n",
       "      <th>3</th>\n",
       "      <td>296</td>\n",
       "      <td>Journaux étrangers. Compte rendu du voyage mé...</td>\n",
       "      <td>1898</td>\n",
       "      <td>01</td>\n",
       "    </tr>\n",
       "    <tr>\n",
       "      <th>4</th>\n",
       "      <td>298</td>\n",
       "      <td>Bibliographie. Considérations sanitaires sur l...</td>\n",
       "      <td>1898</td>\n",
       "      <td>01</td>\n",
       "    </tr>\n",
       "    <tr>\n",
       "      <th>...</th>\n",
       "      <td>...</td>\n",
       "      <td>...</td>\n",
       "      <td>...</td>\n",
       "      <td>...</td>\n",
       "    </tr>\n",
       "    <tr>\n",
       "      <th>432</th>\n",
       "      <td>121</td>\n",
       "      <td>III. Analyses. Myélite Bilharzienne. Par M. L...</td>\n",
       "      <td>1940</td>\n",
       "      <td>38</td>\n",
       "    </tr>\n",
       "    <tr>\n",
       "      <th>433</th>\n",
       "      <td>131</td>\n",
       "      <td>III. Analyses. Résultats à distance dans la p...</td>\n",
       "      <td>1940</td>\n",
       "      <td>38</td>\n",
       "    </tr>\n",
       "    <tr>\n",
       "      <th>434</th>\n",
       "      <td>132</td>\n",
       "      <td>III. Analyses. Généralités sur la malaria et ...</td>\n",
       "      <td>1940</td>\n",
       "      <td>38</td>\n",
       "    </tr>\n",
       "    <tr>\n",
       "      <th>435</th>\n",
       "      <td>134</td>\n",
       "      <td>III. Analyses. Les salmonelloses humaines. Pa...</td>\n",
       "      <td>1940</td>\n",
       "      <td>38</td>\n",
       "    </tr>\n",
       "    <tr>\n",
       "      <th>436</th>\n",
       "      <td>135</td>\n",
       "      <td>Livres reçus. Les maladies méditerranéennes. P...</td>\n",
       "      <td>1940</td>\n",
       "      <td>38</td>\n",
       "    </tr>\n",
       "  </tbody>\n",
       "</table>\n",
       "<p>437 rows × 4 columns</p>\n",
       "</div>"
      ],
      "text/plain": [
       "    entree_page                                       entree_titre  \\\n",
       "0           158  Revue des journaux étrangers. British médical ...   \n",
       "1           160                                       Livres reçus   \n",
       "2           161                                      Bibliographie   \n",
       "3           296   Journaux étrangers. Compte rendu du voyage mé...   \n",
       "4           298  Bibliographie. Considérations sanitaires sur l...   \n",
       "..          ...                                                ...   \n",
       "432         121   III. Analyses. Myélite Bilharzienne. Par M. L...   \n",
       "433         131   III. Analyses. Résultats à distance dans la p...   \n",
       "434         132   III. Analyses. Généralités sur la malaria et ...   \n",
       "435         134   III. Analyses. Les salmonelloses humaines. Pa...   \n",
       "436         135  Livres reçus. Les maladies méditerranéennes. P...   \n",
       "\n",
       "    revue_annee revue_numero  \n",
       "0          1898           01  \n",
       "1          1898           01  \n",
       "2          1898           01  \n",
       "3          1898           01  \n",
       "4          1898           01  \n",
       "..          ...          ...  \n",
       "432        1940           38  \n",
       "433        1940           38  \n",
       "434        1940           38  \n",
       "435        1940           38  \n",
       "436        1940           38  \n",
       "\n",
       "[437 rows x 4 columns]"
      ]
     },
     "execution_count": 15,
     "metadata": {},
     "output_type": "execute_result"
    }
   ],
   "source": [
    "df_relations_sc"
   ]
  },
  {
   "cell_type": "code",
   "execution_count": 7,
   "metadata": {},
   "outputs": [
    {
     "ename": "NameError",
     "evalue": "name 'df_administratif' is not defined",
     "output_type": "error",
     "traceback": [
      "\u001b[0;31m---------------------------------------------------------------------------\u001b[0m",
      "\u001b[0;31mNameError\u001b[0m                                 Traceback (most recent call last)",
      "\u001b[0;32m<ipython-input-7-20f84cb22406>\u001b[0m in \u001b[0;36m<module>\u001b[0;34m\u001b[0m\n\u001b[0;32m----> 1\u001b[0;31m \u001b[0mdf_administratif\u001b[0m\u001b[0;34m\u001b[0m\u001b[0;34m\u001b[0m\u001b[0m\n\u001b[0m",
      "\u001b[0;31mNameError\u001b[0m: name 'df_administratif' is not defined"
     ]
    }
   ],
   "source": [
    "df_administratif"
   ]
  },
  {
   "cell_type": "code",
   "execution_count": null,
   "metadata": {},
   "outputs": [],
   "source": [
    "d"
   ]
  },
  {
   "cell_type": "code",
   "execution_count": null,
   "metadata": {},
   "outputs": [],
   "source": []
  }
 ],
 "metadata": {
  "kernelspec": {
   "display_name": "Python 3",
   "language": "python",
   "name": "python3"
  },
  "language_info": {
   "codemirror_mode": {
    "name": "ipython",
    "version": 3
   },
   "file_extension": ".py",
   "mimetype": "text/x-python",
   "name": "python",
   "nbconvert_exporter": "python",
   "pygments_lexer": "ipython3",
   "version": "3.8.5"
  }
 },
 "nbformat": 4,
 "nbformat_minor": 4
}
