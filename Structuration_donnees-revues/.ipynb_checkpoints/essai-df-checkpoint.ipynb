{
 "cells": [
  {
   "cell_type": "markdown",
   "metadata": {},
   "source": [
    "## L'objectif de ce notebook d'essai est de créer la liste des articles de UN numéro à partir du sommaire trouvable sur BIUS. "
   ]
  },
  {
   "cell_type": "markdown",
   "metadata": {},
   "source": [
    "### 1 : Extraire de chaque page de sommaire d'un numéro sur BIUS la page et le titre des articles"
   ]
  },
  {
   "cell_type": "code",
   "execution_count": 1,
   "metadata": {},
   "outputs": [],
   "source": [
    "import requests\n",
    "import csv\n",
    "import pandas as pd"
   ]
  },
  {
   "cell_type": "markdown",
   "metadata": {},
   "source": [
    "#### 1.1. Extraire le texte HTML de la page et le stocker dans un document"
   ]
  },
  {
   "cell_type": "code",
   "execution_count": 2,
   "metadata": {},
   "outputs": [],
   "source": [
    "r = requests.get(\"https://www.biusante.parisdescartes.fr/histoire/medica/resultats/index.php?do=chapitre&cote=131132x1898x01\")\n",
    "#print(r.text)\n",
    "\n",
    "#création d'un document avec le lien allant vers \n",
    "with open (\"Essai_HTML.html\",\"w\") as Essai_HTML:\n",
    "    Essai_HTML.write(r.text)"
   ]
  },
  {
   "cell_type": "markdown",
   "metadata": {},
   "source": [
    "#### 1.2. Utiliser BeautifulSoup pour analyser l'HTML"
   ]
  },
  {
   "cell_type": "code",
   "execution_count": 3,
   "metadata": {},
   "outputs": [],
   "source": [
    "from bs4 import BeautifulSoup\n",
    "from lxml import html"
   ]
  },
  {
   "cell_type": "code",
   "execution_count": 4,
   "metadata": {},
   "outputs": [],
   "source": [
    "numero_AHMC_soup = BeautifulSoup (open(\"Essai_HTML.html\"), features=\"lxml\")"
   ]
  },
  {
   "cell_type": "markdown",
   "metadata": {},
   "source": [
    "##### 1.2.1. J'ai repéré que les références de chaque article se trouvent à l'intérieur de balises : div class=\"tableau1\".  Je les extrait donc dans une var 'div_ens_tag'"
   ]
  },
  {
   "cell_type": "code",
   "execution_count": 5,
   "metadata": {
    "scrolled": true
   },
   "outputs": [],
   "source": [
    "div_ens_tag = numero_AHMC_soup.find_all(\"div\", {\"class\":\"tableau1\"})\n",
    "\n",
    "#print(div_ens_tag)"
   ]
  },
  {
   "cell_type": "markdown",
   "metadata": {},
   "source": [
    "#### 1.2.2. Au sein de ces balises div, j'extrait le texte qui se trouve àl'intérieur des balises (càd page titre article nom auteur)"
   ]
  },
  {
   "cell_type": "code",
   "execution_count": 6,
   "metadata": {},
   "outputs": [],
   "source": [
    "liste_page_titre = []\n",
    "\n",
    "for balise in div_ens_tag:\n",
    "    liste_page_titre.append(balise.text)\n",
    "    \n",
    "#print(liste_page_titre)\n",
    "#print(len(liste_page_titre)) => Il y a 82 entrées au total"
   ]
  },
  {
   "cell_type": "markdown",
   "metadata": {},
   "source": [
    "### 2. Nettoyer les entrées pour ne conserver que les articles"
   ]
  },
  {
   "cell_type": "code",
   "execution_count": 7,
   "metadata": {},
   "outputs": [],
   "source": [
    "import regex as re"
   ]
  },
  {
   "cell_type": "markdown",
   "metadata": {},
   "source": [
    "#### 2.1. Liste ne conservant que la page et le contenu de l'entrée\n",
    "###### NB : je fais exprès de dire \"entrée\" et non \"article\" car il y a d'autres contenus que des articles"
   ]
  },
  {
   "cell_type": "code",
   "execution_count": 8,
   "metadata": {},
   "outputs": [],
   "source": [
    "Liste_entrees = []\n",
    "for entree in liste_page_titre :\n",
    "    RE_entree = re.findall(r\"\\t(\\d{1,3})(.*)\",entree) \n",
    "        #NB : RE_article a pour classe \"regex_match\"\n",
    "    #print(str(RE_article))\n",
    "    Liste_entrees.append(RE_entree)\n",
    "#print(Liste_entrees)"
   ]
  },
  {
   "cell_type": "markdown",
   "metadata": {},
   "source": [
    "#### 2.2. Pour les pages d'un nouvel article qui débute, ne conserver que le nom du nouveau"
   ]
  },
  {
   "cell_type": "code",
   "execution_count": 9,
   "metadata": {},
   "outputs": [],
   "source": [
    "Liste_entrees_no_doublesentrees= []\n",
    "\n",
    "#le _t_ = \"type\"\n",
    "\n",
    "for entree_t_list in Liste_entrees :\n",
    "    for entree_t_tupple in entree_t_list :\n",
    "        tupple_to_list = list(entree_t_tupple)\n",
    "        \n",
    "        if re.search(r\"(.*\\/(.*))\",tupple_to_list[1],0, re.MULTILINE):\n",
    "            tupple_to_list[1] = re.sub(r\"(.*\\/(.*))\",\"\\\\2\",tupple_to_list[1],0, re.MULTILINE)\n",
    "            tupple_to_list[1] = re.sub(r\"^ \",\"\",tupple_to_list[1])\n",
    "        Liste_entrees_no_doublesentrees.append(tupple_to_list)\n",
    "\n",
    "#print(Liste_entrees_no_doublesentrees)"
   ]
  },
  {
   "cell_type": "markdown",
   "metadata": {},
   "source": [
    "#### Ici je souhaite retirer les articles relatifs aux Bulletins officiels, Revues des journaux, Livres reçus et la table analytique des matières de chaque numéro."
   ]
  },
  {
   "cell_type": "code",
   "execution_count": 24,
   "metadata": {},
   "outputs": [],
   "source": [
    "Liste_articles = Liste_entrees_no_doublesentrees\n",
    "\n",
    "for entree in Liste_entrees_no_doublesentrees :\n",
    "    if re.search(r\"(.*)?(Bulletin officiel)(.*)?\",entree[1]):\n",
    "        Liste_articles.remove(entree)\n",
    "    elif re.search(r\"(.*)?((J|j)ournaux)(.*)?\",entree[1]):\n",
    "        Liste_articles.remove(entree)\n",
    "    elif re.search(r\"(.*)?(Livres reçus)(.*)?\",entree[1]):\n",
    "        Liste_articles.remove(entree)\n",
    "    elif re.search(r\"(.*)?(Bibliographie)(.*)?\",entree[1]):\n",
    "        Liste_articles.remove(entree)\n",
    "    elif re.search(r\"(.*)?(Table analytique)(.*)?\",entree[1]):\n",
    "        Liste_articles.remove(entree)\n",
    "    elif re.search(r\"(.*)?(N(e|é)crologie)(.*)?\",entree[1]):\n",
    "        Liste_articles.remove(entree)\n",
    "\n",
    "#print(Liste_articles)"
   ]
  },
  {
   "cell_type": "markdown",
   "metadata": {},
   "source": [
    "### 3. Création d'un dataframe"
   ]
  },
  {
   "cell_type": "code",
   "execution_count": 145,
   "metadata": {},
   "outputs": [],
   "source": [
    "df = pd.DataFrame(Liste_articles)"
   ]
  },
  {
   "cell_type": "code",
   "execution_count": 146,
   "metadata": {
    "scrolled": true
   },
   "outputs": [],
   "source": [
    "df.columns = ['article_page', 'article_titre']"
   ]
  },
  {
   "cell_type": "code",
   "execution_count": 147,
   "metadata": {},
   "outputs": [
    {
     "data": {
      "text/html": [
       "<div>\n",
       "<style scoped>\n",
       "    .dataframe tbody tr th:only-of-type {\n",
       "        vertical-align: middle;\n",
       "    }\n",
       "\n",
       "    .dataframe tbody tr th {\n",
       "        vertical-align: top;\n",
       "    }\n",
       "\n",
       "    .dataframe thead th {\n",
       "        text-align: right;\n",
       "    }\n",
       "</style>\n",
       "<table border=\"1\" class=\"dataframe\">\n",
       "  <thead>\n",
       "    <tr style=\"text-align: right;\">\n",
       "      <th></th>\n",
       "      <th>article_page</th>\n",
       "      <th>article_titre</th>\n",
       "      <th>article_auteur</th>\n",
       "    </tr>\n",
       "  </thead>\n",
       "  <tbody>\n",
       "    <tr>\n",
       "      <th>0</th>\n",
       "      <td>9</td>\n",
       "      <td>Contribution à la géographie médicale. Notes ...</td>\n",
       "      <td>Clarac. Première partie</td>\n",
       "    </tr>\n",
       "    <tr>\n",
       "      <th>1</th>\n",
       "      <td>43</td>\n",
       "      <td>Contribution à la géographie médicale. Notes ...</td>\n",
       "      <td>Clarac. Première partie. Deuxième partie. La f...</td>\n",
       "    </tr>\n",
       "    <tr>\n",
       "      <th>2</th>\n",
       "      <td>114</td>\n",
       "      <td>Notes sur la mortalité des troupes d'infanteri...</td>\n",
       "      <td>Fontaine(1)</td>\n",
       "    </tr>\n",
       "    <tr>\n",
       "      <th>3</th>\n",
       "      <td>129</td>\n",
       "      <td>Sur le mécanisme de l'immunisation contre les ...</td>\n",
       "      <td>Calmette</td>\n",
       "    </tr>\n",
       "    <tr>\n",
       "      <th>4</th>\n",
       "      <td>135</td>\n",
       "      <td>Notes succinctes sur l'état sanitaire de nos ...</td>\n",
       "      <td>NaN</td>\n",
       "    </tr>\n",
       "    <tr>\n",
       "      <th>...</th>\n",
       "      <td>...</td>\n",
       "      <td>...</td>\n",
       "      <td>...</td>\n",
       "    </tr>\n",
       "    <tr>\n",
       "      <th>62</th>\n",
       "      <td>547</td>\n",
       "      <td>Fonctionnement aux colonies des ambulances cr...</td>\n",
       "      <td>NaN</td>\n",
       "    </tr>\n",
       "    <tr>\n",
       "      <th>63</th>\n",
       "      <td>550</td>\n",
       "      <td>Fonctionnement aux colonies des ambulances cr...</td>\n",
       "      <td>NaN</td>\n",
       "    </tr>\n",
       "    <tr>\n",
       "      <th>64</th>\n",
       "      <td>555</td>\n",
       "      <td>Fonctionnement aux colonies des ambulances cr...</td>\n",
       "      <td>NaN</td>\n",
       "    </tr>\n",
       "    <tr>\n",
       "      <th>65</th>\n",
       "      <td>562</td>\n",
       "      <td>Sur l'extension de la peste à bubons. Par Robe...</td>\n",
       "      <td>NaN</td>\n",
       "    </tr>\n",
       "    <tr>\n",
       "      <th>66</th>\n",
       "      <td>566</td>\n",
       "      <td>Notes d'hygiène et de médecine sur l'État du C...</td>\n",
       "      <td>NaN</td>\n",
       "    </tr>\n",
       "  </tbody>\n",
       "</table>\n",
       "<p>67 rows × 3 columns</p>\n",
       "</div>"
      ],
      "text/plain": [
       "   article_page                                      article_titre  \\\n",
       "0             9   Contribution à la géographie médicale. Notes ...   \n",
       "1            43   Contribution à la géographie médicale. Notes ...   \n",
       "2           114  Notes sur la mortalité des troupes d'infanteri...   \n",
       "3           129  Sur le mécanisme de l'immunisation contre les ...   \n",
       "4           135   Notes succinctes sur l'état sanitaire de nos ...   \n",
       "..          ...                                                ...   \n",
       "62          547   Fonctionnement aux colonies des ambulances cr...   \n",
       "63          550   Fonctionnement aux colonies des ambulances cr...   \n",
       "64          555   Fonctionnement aux colonies des ambulances cr...   \n",
       "65          562  Sur l'extension de la peste à bubons. Par Robe...   \n",
       "66          566  Notes d'hygiène et de médecine sur l'État du C...   \n",
       "\n",
       "                                       article_auteur  \n",
       "0                             Clarac. Première partie  \n",
       "1   Clarac. Première partie. Deuxième partie. La f...  \n",
       "2                                         Fontaine(1)  \n",
       "3                                            Calmette  \n",
       "4                                                 NaN  \n",
       "..                                                ...  \n",
       "62                                                NaN  \n",
       "63                                                NaN  \n",
       "64                                                NaN  \n",
       "65                                                NaN  \n",
       "66                                                NaN  \n",
       "\n",
       "[67 rows x 3 columns]"
      ]
     },
     "execution_count": 147,
     "metadata": {},
     "output_type": "execute_result"
    }
   ],
   "source": [
    "#créer une nouvelle colonne avec le nom des auteurs (et ce qui suit)\n",
    "\n",
    "df['article_auteur'] = df[\"article_titre\"].str.split(r\"((P|p)ar ((.+)?le)?) Dr (.*)\").str[5]\n",
    "\n",
    "#retirer nom auteurs (et ce qui suit) de article_titre\n",
    "df['article_titre'] = df['article_titre'].str.replace(r\"(.*)(Par (.*)?(le)? Dr (.*))\", r\"\\1\") #FONCTIONNE\n",
    "#df['article_titre'] = df['article_titre'].str.replace(r\"(.*)(Par le Dr .*)\",r\"\\1\")\n",
    "df"
   ]
  },
  {
   "cell_type": "code",
   "execution_count": 148,
   "metadata": {},
   "outputs": [
    {
     "name": "stdout",
     "output_type": "stream",
     "text": [
      " Morbidité et mortalité à Madagascar pendant l'année 1897. Statistique médicale. Extrait du rapport. \n"
     ]
    }
   ],
   "source": [
    "print(df.iloc[55,1])"
   ]
  },
  {
   "cell_type": "code",
   "execution_count": 149,
   "metadata": {},
   "outputs": [
    {
     "data": {
      "text/html": [
       "<div>\n",
       "<style scoped>\n",
       "    .dataframe tbody tr th:only-of-type {\n",
       "        vertical-align: middle;\n",
       "    }\n",
       "\n",
       "    .dataframe tbody tr th {\n",
       "        vertical-align: top;\n",
       "    }\n",
       "\n",
       "    .dataframe thead th {\n",
       "        text-align: right;\n",
       "    }\n",
       "</style>\n",
       "<table border=\"1\" class=\"dataframe\">\n",
       "  <thead>\n",
       "    <tr style=\"text-align: right;\">\n",
       "      <th></th>\n",
       "      <th>article_page</th>\n",
       "      <th>article_titre</th>\n",
       "      <th>article_auteur</th>\n",
       "      <th>article_section</th>\n",
       "    </tr>\n",
       "  </thead>\n",
       "  <tbody>\n",
       "    <tr>\n",
       "      <th>0</th>\n",
       "      <td>9</td>\n",
       "      <td>Contribution à la géographie médicale. Notes ...</td>\n",
       "      <td>Clarac. Première partie</td>\n",
       "      <td>Variétés</td>\n",
       "    </tr>\n",
       "    <tr>\n",
       "      <th>1</th>\n",
       "      <td>43</td>\n",
       "      <td>Contribution à la géographie médicale. Notes ...</td>\n",
       "      <td>Clarac. Première partie. Deuxième partie. La f...</td>\n",
       "      <td>Variétés</td>\n",
       "    </tr>\n",
       "    <tr>\n",
       "      <th>2</th>\n",
       "      <td>114</td>\n",
       "      <td>Notes sur la mortalité des troupes d'infanteri...</td>\n",
       "      <td>Fontaine(1)</td>\n",
       "      <td>Variétés</td>\n",
       "    </tr>\n",
       "    <tr>\n",
       "      <th>3</th>\n",
       "      <td>129</td>\n",
       "      <td>Sur le mécanisme de l'immunisation contre les ...</td>\n",
       "      <td>Calmette</td>\n",
       "      <td>Variétés</td>\n",
       "    </tr>\n",
       "    <tr>\n",
       "      <th>4</th>\n",
       "      <td>135</td>\n",
       "      <td>Notes succinctes sur l'état sanitaire de nos ...</td>\n",
       "      <td>NaN</td>\n",
       "      <td>Variétés</td>\n",
       "    </tr>\n",
       "    <tr>\n",
       "      <th>...</th>\n",
       "      <td>...</td>\n",
       "      <td>...</td>\n",
       "      <td>...</td>\n",
       "      <td>...</td>\n",
       "    </tr>\n",
       "    <tr>\n",
       "      <th>62</th>\n",
       "      <td>547</td>\n",
       "      <td>Fonctionnement aux colonies des ambulances cr...</td>\n",
       "      <td>NaN</td>\n",
       "      <td>Variétés</td>\n",
       "    </tr>\n",
       "    <tr>\n",
       "      <th>63</th>\n",
       "      <td>550</td>\n",
       "      <td>Fonctionnement aux colonies des ambulances cr...</td>\n",
       "      <td>NaN</td>\n",
       "      <td>Variétés</td>\n",
       "    </tr>\n",
       "    <tr>\n",
       "      <th>64</th>\n",
       "      <td>555</td>\n",
       "      <td>Fonctionnement aux colonies des ambulances cr...</td>\n",
       "      <td>NaN</td>\n",
       "      <td>Variétés</td>\n",
       "    </tr>\n",
       "    <tr>\n",
       "      <th>65</th>\n",
       "      <td>562</td>\n",
       "      <td>Sur l'extension de la peste à bubons. Par Robe...</td>\n",
       "      <td>NaN</td>\n",
       "      <td>Variétés</td>\n",
       "    </tr>\n",
       "    <tr>\n",
       "      <th>66</th>\n",
       "      <td>566</td>\n",
       "      <td>Notes d'hygiène et de médecine sur l'État du C...</td>\n",
       "      <td>NaN</td>\n",
       "      <td>Variétés</td>\n",
       "    </tr>\n",
       "  </tbody>\n",
       "</table>\n",
       "<p>67 rows × 4 columns</p>\n",
       "</div>"
      ],
      "text/plain": [
       "   article_page                                      article_titre  \\\n",
       "0             9   Contribution à la géographie médicale. Notes ...   \n",
       "1            43   Contribution à la géographie médicale. Notes ...   \n",
       "2           114  Notes sur la mortalité des troupes d'infanteri...   \n",
       "3           129  Sur le mécanisme de l'immunisation contre les ...   \n",
       "4           135   Notes succinctes sur l'état sanitaire de nos ...   \n",
       "..          ...                                                ...   \n",
       "62          547   Fonctionnement aux colonies des ambulances cr...   \n",
       "63          550   Fonctionnement aux colonies des ambulances cr...   \n",
       "64          555   Fonctionnement aux colonies des ambulances cr...   \n",
       "65          562  Sur l'extension de la peste à bubons. Par Robe...   \n",
       "66          566  Notes d'hygiène et de médecine sur l'État du C...   \n",
       "\n",
       "                                       article_auteur article_section  \n",
       "0                             Clarac. Première partie        Variétés  \n",
       "1   Clarac. Première partie. Deuxième partie. La f...        Variétés  \n",
       "2                                         Fontaine(1)        Variétés  \n",
       "3                                            Calmette        Variétés  \n",
       "4                                                 NaN        Variétés  \n",
       "..                                                ...             ...  \n",
       "62                                                NaN        Variétés  \n",
       "63                                                NaN        Variétés  \n",
       "64                                                NaN        Variétés  \n",
       "65                                                NaN        Variétés  \n",
       "66                                                NaN        Variétés  \n",
       "\n",
       "[67 rows x 4 columns]"
      ]
     },
     "execution_count": 149,
     "metadata": {},
     "output_type": "execute_result"
    }
   ],
   "source": [
    "Liste_article_section = [\"Contribution à la géographie médicale\",\"Clinique d'Outre-Mer\",\"Variétés\"]\n",
    "\n",
    "for section in Liste_article_section :\n",
    "    for titre in df['article_titre']:\n",
    "        if re.match(section,str(titre)):\n",
    "          df['article_section'] = section\n",
    "df"
   ]
  },
  {
   "cell_type": "markdown",
   "metadata": {},
   "source": [
    "#### 3.__. exportation du df en csv"
   ]
  },
  {
   "cell_type": "code",
   "execution_count": null,
   "metadata": {},
   "outputs": [],
   "source": [
    "df2_essai.to_csv('FileName.csv', index = False)"
   ]
  },
  {
   "cell_type": "code",
   "execution_count": null,
   "metadata": {},
   "outputs": [],
   "source": []
  },
  {
   "cell_type": "code",
   "execution_count": null,
   "metadata": {},
   "outputs": [],
   "source": []
  }
 ],
 "metadata": {
  "kernelspec": {
   "display_name": "Python 3",
   "language": "python",
   "name": "python3"
  },
  "language_info": {
   "codemirror_mode": {
    "name": "ipython",
    "version": 3
   },
   "file_extension": ".py",
   "mimetype": "text/x-python",
   "name": "python",
   "nbconvert_exporter": "python",
   "pygments_lexer": "ipython3",
   "version": "3.8.3"
  }
 },
 "nbformat": 4,
 "nbformat_minor": 4
}
